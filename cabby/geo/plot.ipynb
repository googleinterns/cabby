{
 "metadata": {
  "language_info": {
   "codemirror_mode": {
    "name": "ipython",
    "version": 3
   },
   "file_extension": ".py",
   "mimetype": "text/x-python",
   "name": "python",
   "nbconvert_exporter": "python",
   "pygments_lexer": "ipython3",
   "version": "3.7.6-final"
  },
  "orig_nbformat": 2,
  "kernelspec": {
   "name": "python_defaultSpec_1599384521597",
   "display_name": "Python 3.7.6 64-bit ('cabby2': conda)"
  }
 },
 "nbformat": 4,
 "nbformat_minor": 2,
 "cells": [
  {
   "cell_type": "code",
   "execution_count": null,
   "metadata": {},
   "outputs": [],
   "source": []
  },
  {
   "source": [
    "# coding=utf-8\n",
    "# Copyright 2020 Google LLC\n",
    "# Licensed under the Apache License, Version 2.0 (the \"License\");\n",
    "# you may not use this file except in compliance with the License.\n",
    "# You may obtain a copy of the License at\n",
    "#\n",
    "#     http://www.apache.org/licenses/LICENSE-2.0\n",
    "#\n",
    "# Unless required by applicable law or agreed to in writing, software\n",
    "# distributed under the License is distributed on an \"AS IS\" BASIS,\n",
    "# WITHOUT WARRANTIES OR CONDITIONS OF ANY KIND, either express or implied.\n",
    "# See the License for the specific language governing permissions and\n",
    "# limitations under the License."
   ],
   "cell_type": "markdown",
   "metadata": {}
  },
  {
   "cell_type": "code",
   "execution_count": 1,
   "metadata": {},
   "outputs": [],
   "source": [
    "\n",
    "from typing import Tuple, Sequence, Optional, Dict, Text\n",
    "from json import JSONDecoder, JSONDecodeError\n",
    "import json\n",
    "import pandas as pd\n",
    "import matplotlib.pyplot as plt\n",
    "import matplotlib\n",
    "import folium\n",
    "\n",
    "import os\n",
    "\n",
    "import visualize\n",
    "\n"
   ]
  },
  {
   "cell_type": "code",
   "execution_count": 5,
   "metadata": {},
   "outputs": [],
   "source": [
    "path = \"/mnt/hackney/data/cabby/poi/geo_paths.gpkg\""
   ]
  },
  {
   "cell_type": "code",
   "execution_count": 6,
   "metadata": {},
   "outputs": [],
   "source": [
    "osm_maps_instructions = visualize.get_maps_and_instructions(path)"
   ]
  },
  {
   "cell_type": "code",
   "execution_count": 10,
   "metadata": {},
   "outputs": [
    {
     "output_type": "display_data",
     "data": {
      "text/plain": "'Starting at NYCT emergency exit walk past Fish Market and your goal is WalkNYC, near Semson Eatery.'"
     },
     "metadata": {}
    },
    {
     "output_type": "execute_result",
     "data": {
      "text/plain": "<folium.folium.Map at 0x7fbf882ab590>",
      "text/html": "<div style=\"width:100%;\"><div style=\"position:relative;width:100%;height:0;padding-bottom:60%;\"><span style=\"color:#565656\">Make this Notebook Trusted to load map: File -> Trust Notebook</span><iframe src=\"about:blank\" style=\"position:absolute;width:100%;height:100%;left:0;top:0;border:none !important;\" data-html=PCFET0NUWVBFIGh0bWw+CjxoZWFkPiAgICAKICAgIDxtZXRhIGh0dHAtZXF1aXY9ImNvbnRlbnQtdHlwZSIgY29udGVudD0idGV4dC9odG1sOyBjaGFyc2V0PVVURi04IiAvPgogICAgCiAgICAgICAgPHNjcmlwdD4KICAgICAgICAgICAgTF9OT19UT1VDSCA9IGZhbHNlOwogICAgICAgICAgICBMX0RJU0FCTEVfM0QgPSBmYWxzZTsKICAgICAgICA8L3NjcmlwdD4KICAgIAogICAgPHNjcmlwdCBzcmM9Imh0dHBzOi8vY2RuLmpzZGVsaXZyLm5ldC9ucG0vbGVhZmxldEAxLjYuMC9kaXN0L2xlYWZsZXQuanMiPjwvc2NyaXB0PgogICAgPHNjcmlwdCBzcmM9Imh0dHBzOi8vY29kZS5qcXVlcnkuY29tL2pxdWVyeS0xLjEyLjQubWluLmpzIj48L3NjcmlwdD4KICAgIDxzY3JpcHQgc3JjPSJodHRwczovL21heGNkbi5ib290c3RyYXBjZG4uY29tL2Jvb3RzdHJhcC8zLjIuMC9qcy9ib290c3RyYXAubWluLmpzIj48L3NjcmlwdD4KICAgIDxzY3JpcHQgc3JjPSJodHRwczovL2NkbmpzLmNsb3VkZmxhcmUuY29tL2FqYXgvbGlicy9MZWFmbGV0LmF3ZXNvbWUtbWFya2Vycy8yLjAuMi9sZWFmbGV0LmF3ZXNvbWUtbWFya2Vycy5qcyI+PC9zY3JpcHQ+CiAgICA8bGluayByZWw9InN0eWxlc2hlZXQiIGhyZWY9Imh0dHBzOi8vY2RuLmpzZGVsaXZyLm5ldC9ucG0vbGVhZmxldEAxLjYuMC9kaXN0L2xlYWZsZXQuY3NzIi8+CiAgICA8bGluayByZWw9InN0eWxlc2hlZXQiIGhyZWY9Imh0dHBzOi8vbWF4Y2RuLmJvb3RzdHJhcGNkbi5jb20vYm9vdHN0cmFwLzMuMi4wL2Nzcy9ib290c3RyYXAubWluLmNzcyIvPgogICAgPGxpbmsgcmVsPSJzdHlsZXNoZWV0IiBocmVmPSJodHRwczovL21heGNkbi5ib290c3RyYXBjZG4uY29tL2Jvb3RzdHJhcC8zLjIuMC9jc3MvYm9vdHN0cmFwLXRoZW1lLm1pbi5jc3MiLz4KICAgIDxsaW5rIHJlbD0ic3R5bGVzaGVldCIgaHJlZj0iaHR0cHM6Ly9tYXhjZG4uYm9vdHN0cmFwY2RuLmNvbS9mb250LWF3ZXNvbWUvNC42LjMvY3NzL2ZvbnQtYXdlc29tZS5taW4uY3NzIi8+CiAgICA8bGluayByZWw9InN0eWxlc2hlZXQiIGhyZWY9Imh0dHBzOi8vY2RuanMuY2xvdWRmbGFyZS5jb20vYWpheC9saWJzL0xlYWZsZXQuYXdlc29tZS1tYXJrZXJzLzIuMC4yL2xlYWZsZXQuYXdlc29tZS1tYXJrZXJzLmNzcyIvPgogICAgPGxpbmsgcmVsPSJzdHlsZXNoZWV0IiBocmVmPSJodHRwczovL3Jhd2Nkbi5naXRoYWNrLmNvbS9weXRob24tdmlzdWFsaXphdGlvbi9mb2xpdW0vbWFzdGVyL2ZvbGl1bS90ZW1wbGF0ZXMvbGVhZmxldC5hd2Vzb21lLnJvdGF0ZS5jc3MiLz4KICAgIDxzdHlsZT5odG1sLCBib2R5IHt3aWR0aDogMTAwJTtoZWlnaHQ6IDEwMCU7bWFyZ2luOiAwO3BhZGRpbmc6IDA7fTwvc3R5bGU+CiAgICA8c3R5bGU+I21hcCB7cG9zaXRpb246YWJzb2x1dGU7dG9wOjA7Ym90dG9tOjA7cmlnaHQ6MDtsZWZ0OjA7fTwvc3R5bGU+CiAgICAKICAgICAgICAgICAgPG1ldGEgbmFtZT0idmlld3BvcnQiIGNvbnRlbnQ9IndpZHRoPWRldmljZS13aWR0aCwKICAgICAgICAgICAgICAgIGluaXRpYWwtc2NhbGU9MS4wLCBtYXhpbXVtLXNjYWxlPTEuMCwgdXNlci1zY2FsYWJsZT1ubyIgLz4KICAgICAgICAgICAgPHN0eWxlPgogICAgICAgICAgICAgICAgI21hcF84Zjc1MDhiZDMyNzc0YzY4YmI3ZGJiZDljMmQ3MWE5OCB7CiAgICAgICAgICAgICAgICAgICAgcG9zaXRpb246IHJlbGF0aXZlOwogICAgICAgICAgICAgICAgICAgIHdpZHRoOiAxMDAuMCU7CiAgICAgICAgICAgICAgICAgICAgaGVpZ2h0OiAxMDAuMCU7CiAgICAgICAgICAgICAgICAgICAgbGVmdDogMC4wJTsKICAgICAgICAgICAgICAgICAgICB0b3A6IDAuMCU7CiAgICAgICAgICAgICAgICB9CiAgICAgICAgICAgIDwvc3R5bGU+CiAgICAgICAgCjwvaGVhZD4KPGJvZHk+ICAgIAogICAgCiAgICAgICAgICAgIDxkaXYgY2xhc3M9ImZvbGl1bS1tYXAiIGlkPSJtYXBfOGY3NTA4YmQzMjc3NGM2OGJiN2RiYmQ5YzJkNzFhOTgiID48L2Rpdj4KICAgICAgICAKPC9ib2R5Pgo8c2NyaXB0PiAgICAKICAgIAogICAgICAgICAgICB2YXIgbWFwXzhmNzUwOGJkMzI3NzRjNjhiYjdkYmJkOWMyZDcxYTk4ID0gTC5tYXAoCiAgICAgICAgICAgICAgICAibWFwXzhmNzUwOGJkMzI3NzRjNjhiYjdkYmJkOWMyZDcxYTk4IiwKICAgICAgICAgICAgICAgIHsKICAgICAgICAgICAgICAgICAgICBjZW50ZXI6IFs0MC43MjUwNDQ4LCAtNzQuMDAzNDQ3ODUwMDAwMDFdLAogICAgICAgICAgICAgICAgICAgIGNyczogTC5DUlMuRVBTRzM4NTcsCiAgICAgICAgICAgICAgICAgICAgem9vbTogMTUsCiAgICAgICAgICAgICAgICAgICAgem9vbUNvbnRyb2w6IHRydWUsCiAgICAgICAgICAgICAgICAgICAgcHJlZmVyQ2FudmFzOiBmYWxzZSwKICAgICAgICAgICAgICAgIH0KICAgICAgICAgICAgKTsKCiAgICAgICAgICAgIAoKICAgICAgICAKICAgIAogICAgICAgICAgICB2YXIgdGlsZV9sYXllcl80ODZkMzk2NWExOTY0OGZhYWRkNDZkMTk4MTFkMDZlNiA9IEwudGlsZUxheWVyKAogICAgICAgICAgICAgICAgImh0dHBzOi8ve3N9LnRpbGUub3BlbnN0cmVldG1hcC5vcmcve3p9L3t4fS97eX0ucG5nIiwKICAgICAgICAgICAgICAgIHsiYXR0cmlidXRpb24iOiAiRGF0YSBieSBcdTAwMjZjb3B5OyBcdTAwM2NhIGhyZWY9XCJodHRwOi8vb3BlbnN0cmVldG1hcC5vcmdcIlx1MDAzZU9wZW5TdHJlZXRNYXBcdTAwM2MvYVx1MDAzZSwgdW5kZXIgXHUwMDNjYSBocmVmPVwiaHR0cDovL3d3dy5vcGVuc3RyZWV0bWFwLm9yZy9jb3B5cmlnaHRcIlx1MDAzZU9EYkxcdTAwM2MvYVx1MDAzZS4iLCAiZGV0ZWN0UmV0aW5hIjogZmFsc2UsICJtYXhOYXRpdmVab29tIjogMTgsICJtYXhab29tIjogMTgsICJtaW5ab29tIjogMCwgIm5vV3JhcCI6IGZhbHNlLCAib3BhY2l0eSI6IDEsICJzdWJkb21haW5zIjogImFiYyIsICJ0bXMiOiBmYWxzZX0KICAgICAgICAgICAgKS5hZGRUbyhtYXBfOGY3NTA4YmQzMjc3NGM2OGJiN2RiYmQ5YzJkNzFhOTgpOwogICAgICAgIAogICAgCiAgICAgICAgICAgIHZhciBtYXJrZXJfYmQxNjU3Njc5NWJlNGZhMjkxOGM3OWQyODlhYTliODIgPSBMLm1hcmtlcigKICAgICAgICAgICAgICAgIFs0MC43NDM1NTYsIC03My45OTk5ODk3MDAwMDAwMV0sCiAgICAgICAgICAgICAgICB7fQogICAgICAgICAgICApLmFkZFRvKG1hcF84Zjc1MDhiZDMyNzc0YzY4YmI3ZGJiZDljMmQ3MWE5OCk7CiAgICAgICAgCiAgICAKICAgICAgICB2YXIgcG9wdXBfNTM5Yzk1NzJjZmM4NGVmYmJmNTkzNGQxOTM0Njc1NGMgPSBMLnBvcHVwKHsibWF4V2lkdGgiOiAiMTAwJSJ9KTsKCiAgICAgICAgCiAgICAgICAgICAgIHZhciBodG1sX2VkZmNiY2MxYTIwNDQ2ZGI4YTJjYmYyYTc1ZDM4ZDc2ID0gJChgPGRpdiBpZD0iaHRtbF9lZGZjYmNjMWEyMDQ0NmRiOGEyY2JmMmE3NWQzOGQ3NiIgc3R5bGU9IndpZHRoOiAxMDAuMCU7IGhlaWdodDogMTAwLjAlOyI+c3RhcnQgcG9pbnQ8L2Rpdj5gKVswXTsKICAgICAgICAgICAgcG9wdXBfNTM5Yzk1NzJjZmM4NGVmYmJmNTkzNGQxOTM0Njc1NGMuc2V0Q29udGVudChodG1sX2VkZmNiY2MxYTIwNDQ2ZGI4YTJjYmYyYTc1ZDM4ZDc2KTsKICAgICAgICAKCiAgICAgICAgbWFya2VyX2JkMTY1NzY3OTViZTRmYTI5MThjNzlkMjg5YWE5YjgyLmJpbmRQb3B1cChwb3B1cF81MzljOTU3MmNmYzg0ZWZiYmY1OTM0ZDE5MzQ2NzU0YykKICAgICAgICA7CgogICAgICAgIAogICAgCiAgICAKICAgICAgICAgICAgdmFyIG1hcmtlcl9lMmM2Nzg2NjQzM2I0NGRhOWZlZjc2YmMxYjlhMmI4YiA9IEwubWFya2VyKAogICAgICAgICAgICAgICAgWzQwLjcwNjUzMzYsIC03NC4wMDY5MDZdLAogICAgICAgICAgICAgICAge30KICAgICAgICAgICAgKS5hZGRUbyhtYXBfOGY3NTA4YmQzMjc3NGM2OGJiN2RiYmQ5YzJkNzFhOTgpOwogICAgICAgIAogICAgCiAgICAgICAgdmFyIHBvcHVwX2UyZDIxNDhjMzhiNDRkN2FiZTVkMGI5NGQ4M2RlOTJjID0gTC5wb3B1cCh7Im1heFdpZHRoIjogIjEwMCUifSk7CgogICAgICAgIAogICAgICAgICAgICB2YXIgaHRtbF9kMzM0MTI1Mjk2OGU0YmRjYjIwNzdmNTM0ZjJjOTAzZCA9ICQoYDxkaXYgaWQ9Imh0bWxfZDMzNDEyNTI5NjhlNGJkY2IyMDc3ZjUzNGYyYzkwM2QiIHN0eWxlPSJ3aWR0aDogMTAwLjAlOyBoZWlnaHQ6IDEwMC4wJTsiPmVuZCBwb2ludDwvZGl2PmApWzBdOwogICAgICAgICAgICBwb3B1cF9lMmQyMTQ4YzM4YjQ0ZDdhYmU1ZDBiOTRkODNkZTkyYy5zZXRDb250ZW50KGh0bWxfZDMzNDEyNTI5NjhlNGJkY2IyMDc3ZjUzNGYyYzkwM2QpOwogICAgICAgIAoKICAgICAgICBtYXJrZXJfZTJjNjc4NjY0MzNiNDRkYTlmZWY3NmJjMWI5YTJiOGIuYmluZFBvcHVwKHBvcHVwX2UyZDIxNDhjMzhiNDRkN2FiZTVkMGI5NGQ4M2RlOTJjKQogICAgICAgIDsKCiAgICAgICAgCiAgICAKICAgIAogICAgICAgICAgICB2YXIgbWFya2VyX2NkNTJlZDUxMzgxMjQzZmRiMTUzNDFlZDY3MTVmMzU4ID0gTC5tYXJrZXIoCiAgICAgICAgICAgICAgICBbNDAuNzA3MTc3ODMwMDgxNTEsIC03NC4wMDE5MjQxNzYzMzg5OV0sCiAgICAgICAgICAgICAgICB7fQogICAgICAgICAgICApLmFkZFRvKG1hcF84Zjc1MDhiZDMyNzc0YzY4YmI3ZGJiZDljMmQ3MWE5OCk7CiAgICAgICAgCiAgICAKICAgICAgICAgICAgdmFyIGljb25fNTZkYjQxODg5NDU4NDM2MGEyNjMwNDc0M2EyYTQwYjYgPSBMLkF3ZXNvbWVNYXJrZXJzLmljb24oCiAgICAgICAgICAgICAgICB7ImV4dHJhQ2xhc3NlcyI6ICJmYS1yb3RhdGUtMCIsICJpY29uIjogImluZm8tc2lnbiIsICJpY29uQ29sb3IiOiAid2hpdGUiLCAibWFya2VyQ29sb3IiOiAicmVkIiwgInByZWZpeCI6ICJnbHlwaGljb24ifQogICAgICAgICAgICApOwogICAgICAgICAgICBtYXJrZXJfY2Q1MmVkNTEzODEyNDNmZGIxNTM0MWVkNjcxNWYzNTguc2V0SWNvbihpY29uXzU2ZGI0MTg4OTQ1ODQzNjBhMjYzMDQ3NDNhMmE0MGI2KTsKICAgICAgICAKICAgIAogICAgICAgIHZhciBwb3B1cF9mY2I4MTlmODdhMzI0MDE5Yjk3NWFlMzlkYWMzMDdkMSA9IEwucG9wdXAoeyJtYXhXaWR0aCI6ICIxMDAlIn0pOwoKICAgICAgICAKICAgICAgICAgICAgdmFyIGh0bWxfMDNkZGE1M2Q1MDEwNDE0NGJlNGJhNGJkMWQwN2UxYjYgPSAkKGA8ZGl2IGlkPSJodG1sXzAzZGRhNTNkNTAxMDQxNDRiZTRiYTRiZDFkMDdlMWI2IiBzdHlsZT0id2lkdGg6IDEwMC4wJTsgaGVpZ2h0OiAxMDAuMCU7Ij5tYWluIHBpdm90PC9kaXY+YClbMF07CiAgICAgICAgICAgIHBvcHVwX2ZjYjgxOWY4N2EzMjQwMTliOTc1YWUzOWRhYzMwN2QxLnNldENvbnRlbnQoaHRtbF8wM2RkYTUzZDUwMTA0MTQ0YmU0YmE0YmQxZDA3ZTFiNik7CiAgICAgICAgCgogICAgICAgIG1hcmtlcl9jZDUyZWQ1MTM4MTI0M2ZkYjE1MzQxZWQ2NzE1ZjM1OC5iaW5kUG9wdXAocG9wdXBfZmNiODE5Zjg3YTMyNDAxOWI5NzVhZTM5ZGFjMzA3ZDEpCiAgICAgICAgOwoKICAgICAgICAKICAgIAogICAgCiAgICAgICAgICAgIHZhciBtYXJrZXJfMDFiMjQ1NDg2ZGZkNDU1NzhiNDQ4M2YxZjVhNTA4ZmIgPSBMLm1hcmtlcigKICAgICAgICAgICAgICAgIFs0MC43MDY0MjA1LCAtNzQuMDA2NzcyN10sCiAgICAgICAgICAgICAgICB7fQogICAgICAgICAgICApLmFkZFRvKG1hcF84Zjc1MDhiZDMyNzc0YzY4YmI3ZGJiZDljMmQ3MWE5OCk7CiAgICAgICAgCiAgICAKICAgICAgICAgICAgdmFyIGljb25fNmE4ODYyOTdjOGRmNGUyNWE4YjA1MzcxMWUzOWI5MWYgPSBMLkF3ZXNvbWVNYXJrZXJzLmljb24oCiAgICAgICAgICAgICAgICB7ImV4dHJhQ2xhc3NlcyI6ICJmYS1yb3RhdGUtMCIsICJpY29uIjogImluZm8tc2lnbiIsICJpY29uQ29sb3IiOiAid2hpdGUiLCAibWFya2VyQ29sb3IiOiAicmVkIiwgInByZWZpeCI6ICJnbHlwaGljb24ifQogICAgICAgICAgICApOwogICAgICAgICAgICBtYXJrZXJfMDFiMjQ1NDg2ZGZkNDU1NzhiNDQ4M2YxZjVhNTA4ZmIuc2V0SWNvbihpY29uXzZhODg2Mjk3YzhkZjRlMjVhOGIwNTM3MTFlMzliOTFmKTsKICAgICAgICAKICAgIAogICAgICAgIHZhciBwb3B1cF9mNzM2MWE0MzZmNDc0YjIwYTQ4ZDA4NzI5NzgxYjRiOCA9IEwucG9wdXAoeyJtYXhXaWR0aCI6ICIxMDAlIn0pOwoKICAgICAgICAKICAgICAgICAgICAgdmFyIGh0bWxfYWFlMDJhMGMxZDdkNDIyOWE2NjRjYTk2OTg0NjdhMTMgPSAkKGA8ZGl2IGlkPSJodG1sX2FhZTAyYTBjMWQ3ZDQyMjlhNjY0Y2E5Njk4NDY3YTEzIiBzdHlsZT0id2lkdGg6IDEwMC4wJTsgaGVpZ2h0OiAxMDAuMCU7Ij5uZWFyIHBpdm90PC9kaXY+YClbMF07CiAgICAgICAgICAgIHBvcHVwX2Y3MzYxYTQzNmY0NzRiMjBhNDhkMDg3Mjk3ODFiNGI4LnNldENvbnRlbnQoaHRtbF9hYWUwMmEwYzFkN2Q0MjI5YTY2NGNhOTY5ODQ2N2ExMyk7CiAgICAgICAgCgogICAgICAgIG1hcmtlcl8wMWIyNDU0ODZkZmQ0NTU3OGI0NDgzZjFmNWE1MDhmYi5iaW5kUG9wdXAocG9wdXBfZjczNjFhNDM2ZjQ3NGIyMGE0OGQwODcyOTc4MWI0YjgpCiAgICAgICAgOwoKICAgICAgICAKICAgIAo8L3NjcmlwdD4= onload=\"this.contentDocument.open();this.contentDocument.write(atob(this.getAttribute('data-html')));this.contentDocument.close();\" allowfullscreen webkitallowfullscreen mozallowfullscreen></iframe></div></div>"
     },
     "metadata": {},
     "execution_count": 10
    }
   ],
   "source": [
    "osm_map = osm_maps_instructions[0]\n",
    "# display(instruction)\n",
    "osm_map\n"
   ]
  },
  {
   "cell_type": "code",
   "execution_count": null,
   "metadata": {},
   "outputs": [],
   "source": []
  }
 ]
}