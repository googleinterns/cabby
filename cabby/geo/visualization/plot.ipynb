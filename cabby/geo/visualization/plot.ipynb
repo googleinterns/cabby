{
 "cells": [
  {
   "cell_type": "markdown",
   "metadata": {},
   "source": [
    "coding=utf-8\n",
    "Copyright 2020 Google LLC\n",
    "Licensed under the Apache License, Version 2.0 (the \"License\");\n",
    "you may not use this file except in compliance with the License.\n",
    "You may obtain a copy of the License at\n",
    "\n",
    "     http://www.apache.org/licenses/LICENSE-2.0\n",
    "\n",
    "Unless required by applicable law or agreed to in writing, software\n",
    "distributed under the License is distributed on an \"AS IS\" BASIS,\n",
    "WITHOUT WARRANTIES OR CONDITIONS OF ANY KIND, either express or implied.\n",
    "See the License for the specific language governing permissions and\n",
    "limitations under the License."
   ]
  },
  {
   "cell_type": "code",
   "execution_count": 1,
   "metadata": {},
   "outputs": [],
   "source": [
    "\n",
    "from typing import Tuple, Sequence, Optional, Dict, Text\n",
    "from json import JSONDecoder, JSONDecodeError\n",
    "import json\n",
    "import pandas as pd\n",
    "import matplotlib.pyplot as plt\n",
    "import matplotlib\n",
    "import folium\n",
    "\n",
    "import os\n",
    "\n",
    "import visualize\n",
    "\n"
   ]
  },
  {
   "cell_type": "code",
   "execution_count": 2,
   "metadata": {},
   "outputs": [],
   "source": [
    "par_dir = os.path.abspath(os.path.join(os.getcwd(), os.pardir))\n",
    "path_manhattan = os.path.join(par_dir, \"pathData/manhattan_geo_paths.gpkg\")\n",
    "osm_maps_instructions_manhattan = visualize.get_maps_and_instructions(path_manhattan)\n"
   ]
  },
  {
   "cell_type": "code",
   "execution_count": 3,
   "metadata": {
    "scrolled": true
   },
   "outputs": [
    {
     "data": {
      "text/plain": [
       "'cardinal_direction: West; spatial_rel_goal: right; spatial_rel_pivot: right; intersections: None; goal_position: Nonebicycle parking; restaurant; Audrey Bakery & Cafe; herbalist shop; None'"
      ]
     },
     "metadata": {},
     "output_type": "display_data"
    },
    {
     "data": {
      "text/html": [
       "<div style=\"width:100%;\"><div style=\"position:relative;width:100%;height:0;padding-bottom:60%;\"><span style=\"color:#565656\">Make this Notebook Trusted to load map: File -> Trust Notebook</span><iframe src=\"about:blank\" style=\"position:absolute;width:100%;height:100%;left:0;top:0;border:none !important;\" data-html=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 onload=\"this.contentDocument.open();this.contentDocument.write(atob(this.getAttribute('data-html')));this.contentDocument.close();\" allowfullscreen webkitallowfullscreen mozallowfullscreen></iframe></div></div>"
      ],
      "text/plain": [
       "<folium.folium.Map at 0x7f9edb55a1d0>"
      ]
     },
     "execution_count": 3,
     "metadata": {},
     "output_type": "execute_result"
    }
   ],
   "source": [
    "sample_number = 0\n",
    "osm_map, instruction, landmarks, entity = osm_maps_instructions_manhattan[sample_number]\n",
    "osm_map.save('interactive_map.html')\n",
    "display(instruction)\n",
    "osm_map\n"
   ]
  },
  {
   "cell_type": "code",
   "execution_count": 4,
   "metadata": {},
   "outputs": [
    {
     "ename": "AttributeError",
     "evalue": "'Series' object has no attribute 'pivot_view'",
     "output_type": "error",
     "traceback": [
      "\u001b[0;31m---------------------------------------------------------------------------\u001b[0m",
      "\u001b[0;31mAttributeError\u001b[0m                            Traceback (most recent call last)",
      "\u001b[0;32m<ipython-input-4-0e280273a4fe>\u001b[0m in \u001b[0;36m<module>\u001b[0;34m\u001b[0m\n\u001b[1;32m      1\u001b[0m \u001b[0mpath_pittsburgh\u001b[0m \u001b[0;34m=\u001b[0m \u001b[0mos\u001b[0m\u001b[0;34m.\u001b[0m\u001b[0mpath\u001b[0m\u001b[0;34m.\u001b[0m\u001b[0mjoin\u001b[0m\u001b[0;34m(\u001b[0m\u001b[0mpar_dir\u001b[0m\u001b[0;34m,\u001b[0m \u001b[0;34m\"pathData/pittsburgh_geo_paths.gpkg\"\u001b[0m\u001b[0;34m)\u001b[0m\u001b[0;34m\u001b[0m\u001b[0;34m\u001b[0m\u001b[0m\n\u001b[0;32m----> 2\u001b[0;31m \u001b[0mosm_maps_instructions_pittsburgh\u001b[0m \u001b[0;34m=\u001b[0m \u001b[0mvisualize\u001b[0m\u001b[0;34m.\u001b[0m\u001b[0mget_maps_and_instructions\u001b[0m\u001b[0;34m(\u001b[0m\u001b[0mpath_pittsburgh\u001b[0m\u001b[0;34m)\u001b[0m\u001b[0;34m\u001b[0m\u001b[0;34m\u001b[0m\u001b[0m\n\u001b[0m",
      "\u001b[0;32m~/cabby/cabby/geo/visualization/visualize.py\u001b[0m in \u001b[0;36mget_maps_and_instructions\u001b[0;34m(path)\u001b[0m\n\u001b[1;32m     88\u001b[0m   \u001b[0mentities\u001b[0m \u001b[0;34m=\u001b[0m \u001b[0mutil\u001b[0m\u001b[0;34m.\u001b[0m\u001b[0mload_entities\u001b[0m\u001b[0;34m(\u001b[0m\u001b[0mpath\u001b[0m\u001b[0;34m)\u001b[0m\u001b[0;34m\u001b[0m\u001b[0;34m\u001b[0m\u001b[0m\n\u001b[1;32m     89\u001b[0m   \u001b[0;32mfor\u001b[0m \u001b[0mentity\u001b[0m \u001b[0;32min\u001b[0m \u001b[0mentities\u001b[0m\u001b[0;34m:\u001b[0m\u001b[0;34m\u001b[0m\u001b[0;34m\u001b[0m\u001b[0m\n\u001b[0;32m---> 90\u001b[0;31m     \u001b[0mmap_osm\u001b[0m \u001b[0;34m=\u001b[0m \u001b[0mget_osm_map\u001b[0m\u001b[0;34m(\u001b[0m\u001b[0mentity\u001b[0m\u001b[0;34m)\u001b[0m\u001b[0;34m\u001b[0m\u001b[0;34m\u001b[0m\u001b[0m\n\u001b[0m\u001b[1;32m     91\u001b[0m     \u001b[0mfeatures_list\u001b[0m \u001b[0;34m=\u001b[0m \u001b[0;34m[\u001b[0m\u001b[0;34m]\u001b[0m\u001b[0;34m\u001b[0m\u001b[0;34m\u001b[0m\u001b[0m\n\u001b[1;32m     92\u001b[0m     \u001b[0;32mfor\u001b[0m \u001b[0mfeature_type\u001b[0m\u001b[0;34m,\u001b[0m \u001b[0mfeature\u001b[0m \u001b[0;32min\u001b[0m \u001b[0mentity\u001b[0m\u001b[0;34m.\u001b[0m\u001b[0mgeo_features\u001b[0m\u001b[0;34m.\u001b[0m\u001b[0mitems\u001b[0m\u001b[0;34m(\u001b[0m\u001b[0;34m)\u001b[0m\u001b[0;34m:\u001b[0m\u001b[0;34m\u001b[0m\u001b[0;34m\u001b[0m\u001b[0m\n",
      "\u001b[0;32m~/cabby/cabby/geo/visualization/visualize.py\u001b[0m in \u001b[0;36mget_osm_map\u001b[0;34m(entity)\u001b[0m\n\u001b[1;32m     57\u001b[0m   \u001b[0;32mfor\u001b[0m \u001b[0mlandmark_type\u001b[0m\u001b[0;34m,\u001b[0m \u001b[0mlandmark\u001b[0m \u001b[0;32min\u001b[0m \u001b[0mentity\u001b[0m\u001b[0;34m.\u001b[0m\u001b[0mgeo_landmarks\u001b[0m\u001b[0;34m.\u001b[0m\u001b[0mitems\u001b[0m\u001b[0;34m(\u001b[0m\u001b[0;34m)\u001b[0m\u001b[0;34m:\u001b[0m\u001b[0;34m\u001b[0m\u001b[0;34m\u001b[0m\u001b[0m\n\u001b[1;32m     58\u001b[0m     \u001b[0;32mif\u001b[0m \u001b[0mlandmark\u001b[0m\u001b[0;34m.\u001b[0m\u001b[0mgeometry\u001b[0m \u001b[0;32mis\u001b[0m \u001b[0;32mnot\u001b[0m \u001b[0;32mNone\u001b[0m\u001b[0;34m:\u001b[0m\u001b[0;34m\u001b[0m\u001b[0;34m\u001b[0m\u001b[0m\n\u001b[0;32m---> 59\u001b[0;31m       \u001b[0mdesc\u001b[0m \u001b[0;34m=\u001b[0m \u001b[0mlandmark\u001b[0m\u001b[0;34m.\u001b[0m\u001b[0mpivot_gdf\u001b[0m\u001b[0;34m.\u001b[0m\u001b[0mpivot_view\u001b[0m\u001b[0;34m.\u001b[0m\u001b[0mreplace\u001b[0m\u001b[0;34m(\u001b[0m\u001b[0;34m\";\"\u001b[0m\u001b[0;34m,\u001b[0m \u001b[0;34m\"<br>\"\u001b[0m\u001b[0;34m)\u001b[0m\u001b[0;34m\u001b[0m\u001b[0;34m\u001b[0m\u001b[0m\n\u001b[0m\u001b[1;32m     60\u001b[0m       \u001b[0mdesc\u001b[0m \u001b[0;34m=\u001b[0m \u001b[0;34m\"<b> \"\u001b[0m \u001b[0;34m+\u001b[0m \u001b[0mdesc\u001b[0m\u001b[0;34m.\u001b[0m\u001b[0mreplace\u001b[0m\u001b[0;34m(\u001b[0m\u001b[0;34m\"_\"\u001b[0m\u001b[0;34m,\u001b[0m \u001b[0;34m\"</b>\"\u001b[0m\u001b[0;34m,\u001b[0m \u001b[0;36m1\u001b[0m\u001b[0;34m)\u001b[0m\u001b[0;34m\u001b[0m\u001b[0;34m\u001b[0m\u001b[0m\n\u001b[1;32m     61\u001b[0m       \u001b[0mlandmark_geom\u001b[0m \u001b[0;34m=\u001b[0m \u001b[0mutil\u001b[0m\u001b[0;34m.\u001b[0m\u001b[0mlist_yx_from_point\u001b[0m\u001b[0;34m(\u001b[0m\u001b[0mlandmark\u001b[0m\u001b[0;34m.\u001b[0m\u001b[0mgeometry\u001b[0m\u001b[0;34m)\u001b[0m\u001b[0;34m\u001b[0m\u001b[0;34m\u001b[0m\u001b[0m\n",
      "\u001b[0;32m~/miniconda3/envs/cabby/lib/python3.7/site-packages/pandas/core/generic.py\u001b[0m in \u001b[0;36m__getattr__\u001b[0;34m(self, name)\u001b[0m\n\u001b[1;32m   5128\u001b[0m             \u001b[0;32mif\u001b[0m \u001b[0mself\u001b[0m\u001b[0;34m.\u001b[0m\u001b[0m_info_axis\u001b[0m\u001b[0;34m.\u001b[0m\u001b[0m_can_hold_identifiers_and_holds_name\u001b[0m\u001b[0;34m(\u001b[0m\u001b[0mname\u001b[0m\u001b[0;34m)\u001b[0m\u001b[0;34m:\u001b[0m\u001b[0;34m\u001b[0m\u001b[0;34m\u001b[0m\u001b[0m\n\u001b[1;32m   5129\u001b[0m                 \u001b[0;32mreturn\u001b[0m \u001b[0mself\u001b[0m\u001b[0;34m[\u001b[0m\u001b[0mname\u001b[0m\u001b[0;34m]\u001b[0m\u001b[0;34m\u001b[0m\u001b[0;34m\u001b[0m\u001b[0m\n\u001b[0;32m-> 5130\u001b[0;31m             \u001b[0;32mreturn\u001b[0m \u001b[0mobject\u001b[0m\u001b[0;34m.\u001b[0m\u001b[0m__getattribute__\u001b[0m\u001b[0;34m(\u001b[0m\u001b[0mself\u001b[0m\u001b[0;34m,\u001b[0m \u001b[0mname\u001b[0m\u001b[0;34m)\u001b[0m\u001b[0;34m\u001b[0m\u001b[0;34m\u001b[0m\u001b[0m\n\u001b[0m\u001b[1;32m   5131\u001b[0m \u001b[0;34m\u001b[0m\u001b[0m\n\u001b[1;32m   5132\u001b[0m     \u001b[0;32mdef\u001b[0m \u001b[0m__setattr__\u001b[0m\u001b[0;34m(\u001b[0m\u001b[0mself\u001b[0m\u001b[0;34m,\u001b[0m \u001b[0mname\u001b[0m\u001b[0;34m:\u001b[0m \u001b[0mstr\u001b[0m\u001b[0;34m,\u001b[0m \u001b[0mvalue\u001b[0m\u001b[0;34m)\u001b[0m \u001b[0;34m->\u001b[0m \u001b[0;32mNone\u001b[0m\u001b[0;34m:\u001b[0m\u001b[0;34m\u001b[0m\u001b[0;34m\u001b[0m\u001b[0m\n",
      "\u001b[0;31mAttributeError\u001b[0m: 'Series' object has no attribute 'pivot_view'"
     ]
    }
   ],
   "source": [
    "path_pittsburgh = os.path.join(par_dir, \"pathData/pittsburgh_geo_paths.gpkg\")\n",
    "osm_maps_instructions_pittsburgh = visualize.get_maps_and_instructions(path_pittsburgh)\n"
   ]
  },
  {
   "cell_type": "code",
   "execution_count": null,
   "metadata": {},
   "outputs": [],
   "source": [
    "sample_number = 0\n",
    "osm_map, instruction = osm_maps_instructions_pittsburgh[sample_number]\n",
    "osm_map.save('interactive_map.html')\n",
    "display(instruction)\n",
    "osm_map\n"
   ]
  },
  {
   "cell_type": "code",
   "execution_count": null,
   "metadata": {},
   "outputs": [],
   "source": []
  }
 ],
 "metadata": {
  "interpreter": {
   "hash": "5a4108d60831438243bf00045edc3fe86f470803bd2e75c719d577778a33fec4"
  },
  "kernelspec": {
   "display_name": "Python 3.7.6 64-bit ('cabby': conda)",
   "name": "python3"
  },
  "language_info": {
   "codemirror_mode": {
    "name": "ipython",
    "version": 3
   },
   "file_extension": ".py",
   "mimetype": "text/x-python",
   "name": "python",
   "nbconvert_exporter": "python",
   "pygments_lexer": "ipython3",
   "version": "3.7.6"
  }
 },
 "nbformat": 4,
 "nbformat_minor": 2
}
