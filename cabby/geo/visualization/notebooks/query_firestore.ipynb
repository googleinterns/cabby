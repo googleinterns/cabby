{
 "cells": [
  {
   "cell_type": "code",
   "execution_count": 1,
   "metadata": {},
   "outputs": [],
   "source": [
    "import firebase_admin\n",
    "from firebase_admin import firestore\n",
    "import os\n"
   ]
  },
  {
   "cell_type": "code",
   "execution_count": 2,
   "metadata": {},
   "outputs": [],
   "source": [
    "cred = firebase_admin.credentials.Certificate('key.json')\n",
    "default_app = firebase_admin.initialize_app(cred)\n",
    "db = firestore.client()\n",
    "instructions_ref = db.collection('instructions')\n"
   ]
  },
  {
   "cell_type": "code",
   "execution_count": 3,
   "metadata": {},
   "outputs": [
    {
     "data": {
      "text/plain": [
       "1713"
      ]
     },
     "execution_count": 3,
     "metadata": {},
     "output_type": "execute_result"
    }
   ],
   "source": [
    "list_instruction = list(instructions_ref.get())\n",
    "len(list_instruction)\n"
   ]
  },
  {
   "cell_type": "code",
   "execution_count": 4,
   "metadata": {},
   "outputs": [
    {
     "data": {
      "text/plain": [
       "515"
      ]
     },
     "execution_count": 4,
     "metadata": {},
     "output_type": "execute_result"
    }
   ],
   "source": [
    "y = [x.to_dict()['work_id'] for x in list_instruction if 'Pittsburgh' in x.to_dict()['region']]\n",
    "len(y)"
   ]
  },
  {
   "cell_type": "code",
   "execution_count": 5,
   "metadata": {},
   "outputs": [
    {
     "data": {
      "text/plain": [
       "['1',\n",
       " 'AY7WPVKHVNBLG',\n",
       " 'A21LONLNBOB8Q',\n",
       " 'APRZ7BR8C0ZMQ',\n",
       " 'A1198W1SPF1R4',\n",
       " 'A320QA9HJFUOZO',\n",
       " 'A2DDPSXH2X96RF',\n",
       " 'A2GYGCLTMIGDJT',\n",
       " 'A3QAL3X23LHJRV',\n",
       " 'ALYR5CI2SM2JC']"
      ]
     },
     "execution_count": 5,
     "metadata": {},
     "output_type": "execute_result"
    }
   ],
   "source": [
    "import pandas as pd\n",
    "qualified_work_list = pd.read_csv(\"/home/onlp_gcp_biu/cabby/cabby/geo/visualization/qualified_workers.csv\", header=None)[0].tolist()\n",
    "\n",
    "qualified_work_list"
   ]
  },
  {
   "cell_type": "code",
   "execution_count": 6,
   "metadata": {},
   "outputs": [
    {
     "name": "stdout",
     "output_type": "stream",
     "text": [
      "AVBRJBJONL47I\n",
      "A3862RIFFUV141\n"
     ]
    }
   ],
   "source": [
    "for i in set(y):\n",
    "  if i not in qualified_work_list:\n",
    "    print (i) "
   ]
  },
  {
   "cell_type": "code",
   "execution_count": 22,
   "metadata": {},
   "outputs": [],
   "source": [
    "\n",
    "\n",
    "instruction_data = [\n",
    "  e.to_dict()['key'] for e in list_instruction if (\n",
    "    'AY7WPVKHVNBLG' == e.to_dict()['work_id']) ]\n",
    "\n",
    "for id in instruction_data:\n",
    "  instructions_ref.document(id).update(\n",
    "    {'review': 'RVS_excellent'})\n"
   ]
  }
 ],
 "metadata": {
  "interpreter": {
   "hash": "5a4108d60831438243bf00045edc3fe86f470803bd2e75c719d577778a33fec4"
  },
  "kernelspec": {
   "display_name": "Python 3.7.6 64-bit ('cabby': conda)",
   "language": "python",
   "name": "python3"
  },
  "language_info": {
   "codemirror_mode": {
    "name": "ipython",
    "version": 3
   },
   "file_extension": ".py",
   "mimetype": "text/x-python",
   "name": "python",
   "nbconvert_exporter": "python",
   "pygments_lexer": "ipython3",
   "version": "3.7.6"
  },
  "orig_nbformat": 4
 },
 "nbformat": 4,
 "nbformat_minor": 2
}
