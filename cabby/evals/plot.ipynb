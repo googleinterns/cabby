{
 "cells": [
  {
   "cell_type": "markdown",
   "metadata": {},
   "source": [
    "coding=utf-8\n",
    "Copyright 2020 Google LLC\n",
    "Licensed under the Apache License, Version 2.0 (the \"License\");\n",
    "you may not use this file except in compliance with the License.\n",
    "You may obtain a copy of the License at\n",
    "\n",
    "     http://www.apache.org/licenses/LICENSE-2.0\n",
    "\n",
    "Unless required by applicable law or agreed to in writing, software\n",
    "distributed under the License is distributed on an \"AS IS\" BASIS,\n",
    "WITHOUT WARRANTIES OR CONDITIONS OF ANY KIND, either express or implied.\n",
    "See the License for the specific language governing permissions and\n",
    "limitations under the License."
   ]
  },
  {
   "cell_type": "code",
   "execution_count": 1,
   "metadata": {},
   "outputs": [],
   "source": [
    "\n",
    "from typing import Tuple, Sequence, Optional, Dict, Text\n",
    "from json import JSONDecoder, JSONDecodeError\n",
    "import json\n",
    "import pandas as pd\n",
    "import matplotlib.pyplot as plt\n",
    "import matplotlib\n",
    "import folium\n",
    "\n",
    "import os\n"
   ]
  },
  {
   "cell_type": "code",
   "execution_count": 11,
   "metadata": {},
   "outputs": [],
   "source": [
    "FILE_PATH = \"./testdata/sample_test_evals_real.tsv\""
   ]
  },
  {
   "cell_type": "code",
   "execution_count": 9,
   "metadata": {},
   "outputs": [],
   "source": [
    "zoom_location = [40.7423947945141, -73.98845919426378]\n",
    "zoom_start = 13\n",
    "map_osm = folium.Map(location=zoom_location,\n",
    "                    zoom_start=zoom_start, tiles='OpenStreetMap')\n",
    "\n"
   ]
  },
  {
   "cell_type": "code",
   "execution_count": 12,
   "metadata": {},
   "outputs": [
    {
     "data": {
      "text/html": [
       "<div style=\"width:100%;\"><div style=\"position:relative;width:100%;height:0;padding-bottom:60%;\"><span style=\"color:#565656\">Make this Notebook Trusted to load map: File -> Trust Notebook</span><iframe src=\"about:blank\" style=\"position:absolute;width:100%;height:100%;left:0;top:0;border:none !important;\" data-html=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 onload=\"this.contentDocument.open();this.contentDocument.write(atob(this.getAttribute('data-html')));this.contentDocument.close();\" allowfullscreen webkitallowfullscreen mozallowfullscreen></iframe></div></div>"
      ],
      "text/plain": [
       "<folium.folium.Map at 0x7f6d52b13590>"
      ]
     },
     "execution_count": 12,
     "metadata": {},
     "output_type": "execute_result"
    }
   ],
   "source": [
    "\n",
    "for line in open(FILE_PATH):\n",
    "    toks = line.strip().split(\"\\t\")\n",
    "    if len(toks) != 5:\n",
    "        print(\n",
    "          \"Unexpected line format: [%s]. Skipping\", line)\n",
    "        continue\n",
    "    \n",
    "    # Draw points\n",
    "    lat_t = float(toks[1])\n",
    "    lng_t = float(toks[2])\n",
    "    lat_p = float(toks[3])\n",
    "    lng_p = float(toks[4])\n",
    "    true_point = [lat_t, lng_t]\n",
    "    pred_point = [lat_p, lng_p]\n",
    "    folium.Marker(\n",
    "        true_point,\n",
    "        icon=folium.Icon(color='green')).add_to(map_osm)\n",
    "    folium.Marker(\n",
    "        pred_point,\n",
    "        icon=folium.Icon(color='red')).add_to(map_osm)\n",
    "\n",
    "    # Draw line between points\n",
    "    coordinates = [true_point, pred_point]\n",
    "    aline=folium.PolyLine(locations=coordinates,weight=2,color = 'blue')\n",
    "    map_osm.add_child(aline)\n",
    "\n",
    "map_osm\n",
    "\n",
    "\n",
    "    "
   ]
  }
 ],
 "metadata": {
  "interpreter": {
   "hash": "5a4108d60831438243bf00045edc3fe86f470803bd2e75c719d577778a33fec4"
  },
  "kernelspec": {
   "display_name": "Python 3.7.6 64-bit ('cabby': conda)",
   "name": "python3"
  },
  "language_info": {
   "codemirror_mode": {
    "name": "ipython",
    "version": 3
   },
   "file_extension": ".py",
   "mimetype": "text/x-python",
   "name": "python",
   "nbconvert_exporter": "python",
   "pygments_lexer": "ipython3",
   "version": "3.7.6"
  }
 },
 "nbformat": 4,
 "nbformat_minor": 2
}
