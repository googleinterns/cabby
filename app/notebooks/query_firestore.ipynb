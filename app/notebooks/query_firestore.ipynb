{
 "cells": [
  {
   "cell_type": "code",
   "execution_count": 1,
   "metadata": {},
   "outputs": [],
   "source": [
    "import firebase_admin\n",
    "from firebase_admin import firestore\n",
    "import os\n"
   ]
  },
  {
   "cell_type": "code",
   "execution_count": 2,
   "metadata": {},
   "outputs": [],
   "source": [
    "cred = firebase_admin.credentials.Certificate('key.json')\n",
    "default_app = firebase_admin.initialize_app(cred)\n",
    "db = firestore.client()\n",
    "instructions_ref = db.collection('instructions')\n"
   ]
  },
  {
   "cell_type": "code",
   "execution_count": 3,
   "metadata": {},
   "outputs": [
    {
     "data": {
      "text/plain": [
       "1796"
      ]
     },
     "execution_count": 3,
     "metadata": {},
     "output_type": "execute_result"
    }
   ],
   "source": [
    "list_instruction = list(instructions_ref.get())\n",
    "len(list_instruction)\n"
   ]
  },
  {
   "cell_type": "code",
   "execution_count": 10,
   "metadata": {},
   "outputs": [
    {
     "data": {
      "text/plain": [
       "183"
      ]
     },
     "execution_count": 10,
     "metadata": {},
     "output_type": "execute_result"
    }
   ],
   "source": [
    "y = [x.to_dict()['work_id'] for x in list_instruction if 'Manhattan' in x.to_dict()['region'] and x.to_dict()['work_id'] not in ['A1198W1SPF1R4','APRZ7BR8C0ZMQ','A21LONLNBOB8Q', 'AY7WPVKHVNBLG', 'A320QA9HJFUOZO','A2DDPSXH2X96RF','A2GYGCLTMIGDJT','A3QAL3X23LHJRV','ALYR5CI2SM2JC']]\n",
    "len(y)"
   ]
  },
  {
   "cell_type": "code",
   "execution_count": 5,
   "metadata": {},
   "outputs": [
    {
     "data": {
      "text/plain": [
       "['1',\n",
       " 'AY7WPVKHVNBLG',\n",
       " 'A21LONLNBOB8Q',\n",
       " 'APRZ7BR8C0ZMQ',\n",
       " 'A1198W1SPF1R4',\n",
       " 'A320QA9HJFUOZO',\n",
       " 'A2DDPSXH2X96RF',\n",
       " 'A2GYGCLTMIGDJT',\n",
       " 'A3QAL3X23LHJRV',\n",
       " 'ALYR5CI2SM2JC']"
      ]
     },
     "execution_count": 5,
     "metadata": {},
     "output_type": "execute_result"
    }
   ],
   "source": [
    "import pandas as pd\n",
    "qualified_work_list = pd.read_csv(\"/home/onlp_gcp_biu/cabby/cabby/geo/visualization/qualified_workers.csv\", header=None)[0].tolist()\n",
    "\n",
    "qualified_work_list"
   ]
  },
  {
   "cell_type": "code",
   "execution_count": 6,
   "metadata": {},
   "outputs": [
    {
     "name": "stdout",
     "output_type": "stream",
     "text": [
      "AVBRJBJONL47I\n",
      "A3862RIFFUV141\n"
     ]
    }
   ],
   "source": [
    "for i in set(y):\n",
    "  if i not in qualified_work_list:\n",
    "    print (i) "
   ]
  },
  {
   "cell_type": "code",
   "execution_count": 22,
   "metadata": {},
   "outputs": [],
   "source": [
    "\n",
    "\n",
    "instruction_data = [\n",
    "  e.to_dict()['key'] for e in list_instruction if (\n",
    "    'AY7WPVKHVNBLG' == e.to_dict()['work_id']) ]\n",
    "\n",
    "for id in instruction_data:\n",
    "  instructions_ref.document(id).update(\n",
    "    {'review': 'RVS_excellent'})\n"
   ]
  },
  {
   "cell_type": "code",
   "execution_count": 22,
   "metadata": {},
   "outputs": [
    {
     "name": "stdout",
     "output_type": "stream",
     "text": [
      "Size of test.json set:636 saved to: /mnt/hackney/human_data/test.json\n",
      "Size of dev.json set:379 saved to: /mnt/hackney/human_data/dev.json\n",
      "Size of train.json set:183 saved to: /mnt/hackney/human_data/train.json\n"
     ]
    }
   ],
   "source": [
    "import json\n",
    "\n",
    "instruction_dir = \"/mnt/hackney/human_data\"\n",
    "\n",
    "def save_split(split_name, split_set):\n",
    "\n",
    "  split_path = os.path.join(instruction_dir, split_name)\n",
    "  if os.path.exists(split_path):\n",
    "    os.remove(split_path)\n",
    "  with open(split_path, 'a') as outfile:\n",
    "    for sample in split_set:\n",
    "      json.dump(sample, outfile, default=lambda o: o.__dict__)\n",
    "      outfile.write('\\n')\n",
    "      outfile.flush()\n",
    "\n",
    "  print (f\"Size of {split_name} set:{len(split_set)} saved to: {split_path}\")\n",
    "\n",
    "\n",
    "# Save set splits\n",
    "\n",
    "dev_ids = ['A320QA9HJFUOZO','A2DDPSXH2X96RF','A2GYGCLTMIGDJT','A3QAL3X23LHJRV','ALYR5CI2SM2JC']\n",
    "test_ids = ['A1198W1SPF1R4','APRZ7BR8C0ZMQ','A21LONLNBOB8Q', 'AY7WPVKHVNBLG']\n",
    "\n",
    "\n",
    "test_set =  [\n",
    "  x.to_dict() for x in list_instruction if 'Manhattan' in x.to_dict()['region'] and x.to_dict()['work_id'] in test_ids]\n",
    "\n",
    "save_split(\"test.json\", test_set)\n",
    "\n",
    "dev_set =  [\n",
    "  x.to_dict() for x in list_instruction if 'Manhattan' in x.to_dict()['region'] and x.to_dict()['work_id'] in dev_ids]\n",
    "\n",
    "save_split(\"dev.json\", dev_set)\n",
    "\n",
    "train_set = [\n",
    "  x.to_dict() for x in list_instruction if 'Manhattan' in x.to_dict()['region'] and x.to_dict()['work_id'] not in dev_ids+test_ids]\n",
    "\n",
    "save_split(\"train.json\", train_set)\n"
   ]
  }
 ],
 "metadata": {
  "interpreter": {
   "hash": "5a4108d60831438243bf00045edc3fe86f470803bd2e75c719d577778a33fec4"
  },
  "kernelspec": {
   "display_name": "Python 3.7.6 64-bit ('cabby': conda)",
   "language": "python",
   "name": "python3"
  },
  "language_info": {
   "codemirror_mode": {
    "name": "ipython",
    "version": 3
   },
   "file_extension": ".py",
   "mimetype": "text/x-python",
   "name": "python",
   "nbconvert_exporter": "python",
   "pygments_lexer": "ipython3",
   "version": "3.7.6"
  },
  "orig_nbformat": 4
 },
 "nbformat": 4,
 "nbformat_minor": 2
}
