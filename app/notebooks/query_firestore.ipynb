{
 "cells": [
  {
   "cell_type": "code",
   "execution_count": 1,
   "metadata": {},
   "outputs": [],
   "source": [
    "import firebase_admin\n",
    "from firebase_admin import firestore\n",
    "import os\n",
    "import pandas as pd\n",
    "from pathlib import Path\n",
    "import sys\n",
    "sys.path.append(os.path.dirname(os.getcwd() ))\n",
    "\n",
    "import visualize\n"
   ]
  },
  {
   "cell_type": "code",
   "execution_count": 2,
   "metadata": {},
   "outputs": [],
   "source": [
    "cred = firebase_admin.credentials.Certificate('key.json')\n",
    "default_app = firebase_admin.initialize_app(cred)\n",
    "db = firestore.client()\n",
    "instructions_ref = db.collection('instructions')\n",
    "verify_ref = db.collection('verification')\n"
   ]
  },
  {
   "cell_type": "code",
   "execution_count": 3,
   "metadata": {},
   "outputs": [
    {
     "data": {
      "text/plain": [
       "(3801, 4246)"
      ]
     },
     "execution_count": 3,
     "metadata": {},
     "output_type": "execute_result"
    }
   ],
   "source": [
    "list_instruction = list(instructions_ref.get())\n",
    "list_verification = list(verify_ref.get())\n",
    "len(list_instruction), len(list_verification)\n"
   ]
  },
  {
   "cell_type": "code",
   "execution_count": 4,
   "metadata": {},
   "outputs": [
    {
     "data": {
      "text/plain": [
       "(52, 317)"
      ]
     },
     "execution_count": 4,
     "metadata": {},
     "output_type": "execute_result"
    }
   ],
   "source": [
    "instructions_ref_sandbox = db.collection('instructions_sandbox')\n",
    "verify_ref_sandbox = db.collection('verification_sandbox')\n",
    "\n",
    "list_instruction_sandbox = list(instructions_ref_sandbox.get())\n",
    "list_verification_sandbox = list(verify_ref_sandbox.get())\n",
    "len(list_instruction_sandbox), len(list_verification_sandbox)"
   ]
  },
  {
   "cell_type": "code",
   "execution_count": 5,
   "metadata": {},
   "outputs": [
    {
     "data": {
      "text/plain": [
       "['1',\n",
       " 'AY7WPVKHVNBLG',\n",
       " 'A1198W1SPF1R4',\n",
       " 'A3QAL3X23LHJRV',\n",
       " 'A3GWRDHAURRNK6',\n",
       " 'A2DDPSXH2X96RF',\n",
       " 'ALYR5CI2SM2JC',\n",
       " 'A320QA9HJFUOZO',\n",
       " 'APRZ7BR8C0ZMQ',\n",
       " 'A3862RIFFUV141',\n",
       " 'A1AKL5YH9NLD2V',\n",
       " 'A2WX434EAQOE29',\n",
       " 'AYIFHDQSXQJ6B',\n",
       " 'A21LONLNBOB8Q',\n",
       " 'A3UENPLNM9AQBK']"
      ]
     },
     "execution_count": 5,
     "metadata": {},
     "output_type": "execute_result"
    }
   ],
   "source": [
    "# Qualified workers\n",
    "current_dir = os.getcwd()\n",
    "parent_dir = Path(current_dir).parent.absolute()\n",
    "path_qualified = os.path.join(parent_dir, \"qualified_workers.csv\")\n",
    "\n",
    "qualified_work_list = pd.read_csv(path_qualified, header=None)[0].tolist()\n",
    "\n",
    "qualified_work_list"
   ]
  },
  {
   "cell_type": "code",
   "execution_count": 19,
   "metadata": {},
   "outputs": [],
   "source": [
    "# Set qualified instructions as RVS_excellent  - UPDATES DATA!!!\n",
    "qualified_instructions = [\n",
    "  e.to_dict()['key'] for e in list_instruction if (\n",
    "    e.to_dict()['work_id'] in qualified_work_list) ]\n",
    "\n",
    "for id in qualified_instructions:\n",
    "  instructions_ref.document(id).update(\n",
    "    {'review': 'RVS_excellent'})\n"
   ]
  },
  {
   "cell_type": "code",
   "execution_count": null,
   "metadata": {},
   "outputs": [],
   "source": [
    "# Split instructions to train, dev, test sets.\n",
    "import json\n",
    "\n",
    "instruction_dir = \"/mnt/hackney/human_data\"\n",
    "\n",
    "def save_split(split_name, split_set):\n",
    "\n",
    "  split_path = os.path.join(instruction_dir, split_name)\n",
    "  if os.path.exists(split_path):\n",
    "    os.remove(split_path)\n",
    "  with open(split_path, 'a') as outfile:\n",
    "    for sample in split_set:\n",
    "      json.dump(sample, outfile, default=lambda o: o.__dict__)\n",
    "      outfile.write('\\n')\n",
    "      outfile.flush()\n",
    "\n",
    "  print (f\"Size of {split_name} set:{len(split_set)} saved to: {split_path}\")\n",
    "\n",
    "\n",
    "# Save set splits\n",
    "\n",
    "dev_ids = ['X']\n",
    "test_ids = ['X']\n",
    "\n",
    "\n",
    "test_set =  [\n",
    "  x.to_dict() for x in list_instruction if 'Manhattan' in x.to_dict()['region'] and x.to_dict()['work_id'] in test_ids]\n",
    "\n",
    "save_split(\"test.json\", test_set)\n",
    "\n",
    "dev_set =  [\n",
    "  x.to_dict() for x in list_instruction if 'Manhattan' in x.to_dict()['region'] and x.to_dict()['work_id'] in dev_ids]\n",
    "\n",
    "save_split(\"dev.json\", dev_set)\n",
    "\n",
    "train_set = [\n",
    "  x.to_dict() for x in list_instruction if 'Manhattan' in x.to_dict()['region'] and x.to_dict()['work_id'] not in dev_ids+test_ids]\n",
    "\n",
    "save_split(\"train.json\", train_set)\n"
   ]
  },
  {
   "cell_type": "code",
   "execution_count": 6,
   "metadata": {},
   "outputs": [
    {
     "name": "stdout",
     "output_type": "stream",
     "text": [
      "--------A1FS8SBR4SDWYG--------\n",
      "                  date_start_x         review                        hit_id_x  \\\n",
      "97  2022-11-21 16:16:03.310371  RVS_excellent  373L46LKP779OZDA4FAYCEM5VMHKJE   \n",
      "\n",
      "    dist_m  \n",
      "97    71.0  \n",
      "--------AZLZA0Q87TJZO--------\n",
      "                    date_start_x review                        hit_id_x  \\\n",
      "1103  2022-11-30 14:47:31.865705    NaN  3K8CQCU3KE2W2PYC8RLTTWXHRHBWNE   \n",
      "\n",
      "      dist_m  \n",
      "1103     4.0  \n",
      "--------A39MOCMDRIOSJM--------\n",
      "                   date_start_x         review  \\\n",
      "544  2022-12-02 11:51:32.243747  RVS_excellent   \n",
      "\n",
      "                           hit_id_x  dist_m  \n",
      "544  3FBEFUUYRK6RORPH853K9WE449Y6AK    21.0  \n",
      "--------A1IQV3QUWRA8G1--------\n",
      "                  date_start_x review                        hit_id_x  dist_m\n",
      "98  2022-11-14 03:20:29.155615    NaN  3B6F54KMR2D0H1AEJZDUZ0HTIW5S14    27.0\n",
      "99  2022-12-11 14:05:48.859196    NaN  3G9UA71JVVVLTK6QLLLP89HJQAR7JM  2537.0\n"
     ]
    }
   ],
   "source": [
    "# check the new workers ID\n",
    "df_instruction_manhattan = pd.DataFrame(\n",
    "    [\n",
    "        x.to_dict() for x in list_instruction if 'Manhattan' in x.to_dict()['region'] and  'date_start' in x.to_dict() and '2022-11-01' <x.to_dict()['date_start'] ])\n",
    "\n",
    "df_verification = pd.DataFrame(\n",
    "        [x.to_dict() for x in list_verification] )\n",
    "\n",
    "\n",
    "df_manhattan = df_instruction_manhattan.merge(df_verification, left_on='key', right_on='key_instruction')\n",
    "\n",
    "work_ids = list(set(df_manhattan['work_id_x'].to_list()))\n",
    "\n",
    "\n",
    "for work_id in work_ids:\n",
    "    if work_id in qualified_work_list:\n",
    "        continue\n",
    "    print (f\"--------{work_id}--------\")\n",
    "    print (df_manhattan[df_manhattan['work_id_x']==work_id][['date_start_x', 'review', 'hit_id_x','dist_m']])\n"
   ]
  },
  {
   "cell_type": "code",
   "execution_count": 7,
   "metadata": {},
   "outputs": [
    {
     "data": {
      "text/plain": [
       "(378, 16)"
      ]
     },
     "execution_count": 7,
     "metadata": {},
     "output_type": "execute_result"
    }
   ],
   "source": [
    "# Check the stack of RVS_excellent\n",
    "all_data = pd.DataFrame([x.to_dict() for x in list_instruction ])\n",
    "x = all_data[all_data['review']=='RVS_excellent' ]\n",
    "x[x['verified_n']==0].shape"
   ]
  },
  {
   "cell_type": "code",
   "execution_count": 8,
   "metadata": {},
   "outputs": [],
   "source": [
    "# merge instructions with verification\n",
    "df_instruction = pd.DataFrame([x.to_dict() for x in list_instruction])\n",
    "df_ver = pd.DataFrame([x.to_dict() for x in list_verification ])\n",
    "\n",
    "instruction_ver = df_instruction.merge(df_ver, left_on='key', right_on='key_instruction')\n"
   ]
  },
  {
   "cell_type": "code",
   "execution_count": 9,
   "metadata": {},
   "outputs": [
    {
     "name": "stdout",
     "output_type": "stream",
     "text": [
      "All valid for theshold 100: 74.338\n",
      "Manhattan valid for theshold 100: 73.337\n",
      "Pittsburgh valid for theshold 100: 76.554\n"
     ]
    }
   ],
   "source": [
    "# Valid instruction\n",
    "dist_threshold = 100\n",
    "\n",
    "\n",
    "manhattan_instruction_ver = instruction_ver[instruction_ver['region']=='Manhattan']\n",
    "pittsburgh_instruction_ver = instruction_ver[instruction_ver['region']=='Pittsburgh']\n",
    "\n",
    "\n",
    "all_valid_instructions = instruction_ver[instruction_ver['dist_m']<dist_threshold]\n",
    "manhattan_valid_instructions = all_valid_instructions[all_valid_instructions['region']=='Manhattan']\n",
    "pittsburgh_valid_instructions = all_valid_instructions[all_valid_instructions['region']=='Pittsburgh']\n",
    "\n",
    "\n",
    "valid_instructions = all_valid_instructions.groupby('key_instruction').min()\n",
    "# all_instructions = instruction_ver.groupby('key_x').min()\n",
    "len_instructions = instruction_ver.drop_duplicates(subset=['key_x']).shape[0]\n",
    "print (f\"All valid for theshold {dist_threshold}: {round(100*valid_instructions.shape[0]/len_instructions, 3)}\" )\n",
    "\n",
    "\n",
    "manhattan_valid_instructions = manhattan_valid_instructions.groupby('key_instruction').min()\n",
    "len_manhattan_instructions = manhattan_instruction_ver.drop_duplicates(subset=['key_x']).shape[0]\n",
    "print (f\"Manhattan valid for theshold {dist_threshold}: {round(100*manhattan_valid_instructions.shape[0]/len_manhattan_instructions, 3)}\" )\n",
    "\n",
    "pittsburgh_valid_instructions = pittsburgh_valid_instructions.groupby('key_instruction').min()\n",
    "len_pittsburgh_instructions = pittsburgh_instruction_ver.drop_duplicates(subset=['key_x']).shape[0]\n",
    "print (f\"Pittsburgh valid for theshold {dist_threshold}: {round(100*pittsburgh_valid_instructions.shape[0]/len_pittsburgh_instructions, 3)}\" )\n",
    "\n",
    "\n"
   ]
  },
  {
   "cell_type": "code",
   "execution_count": 9,
   "metadata": {},
   "outputs": [],
   "source": [
    "# assure all points are of the same format  - UPDATES DATA!!!\n",
    "import math\n",
    "import util\n",
    "\n",
    "list_instruction_all_x = [x.to_dict() for x in list_instruction]\n",
    "for sample in list_instruction_all_x: \n",
    "  for key, point in sample.items():\n",
    "    FLAG_prob = False\n",
    "    if not 'point' in key:\n",
    "      continue\n",
    "      \n",
    "\n",
    "    if isinstance(point, list):\n",
    "      if not(isinstance(point[0], float) and isinstance(point[1], float)):\n",
    "        FLAG_prob = True\n",
    "      y = float(point[0])\n",
    "      x = float(point[1])\n",
    "      point = [y ,x]\n",
    "    else:\n",
    "      FLAG_prob = True\n",
    "      point = util.point_from_str_point(point)\n",
    "      y = point.y\n",
    "      x = point.x\n",
    "      point = [y, x]\n",
    "      if not (y>40 and x<-73):\n",
    "        if x>40 and y<-73:\n",
    "          point = [x, y]\n",
    "\n",
    "    assert isinstance(y, float) and isinstance(x, float), print (type(y), type(x))\n",
    "    assert (isinstance(point, list) and point[0]>40 and point[1]<-73), print(point)\n",
    "\n",
    "    id = sample['key']\n",
    "    # instructions_ref.document(id).update(\n",
    "    #       {key: point})\n",
    "    if FLAG_prob:\n",
    "      print (f\"Writng task PROB with {key}: {sample['key']} \")\n",
    "\n",
    "\n",
    "# verify \n",
    "list_verification_x = [x.to_dict() for x in list_verification]\n",
    "for sample in list_verification_x: \n",
    "  for key, point in sample.items():\n",
    "    FLAG_prob = False\n",
    "    if not 'point' in key:\n",
    "      continue\n",
    "    \n",
    "    if isinstance(point, list):\n",
    "      if isinstance(point[0], float) and isinstance(point[1], float):\n",
    "        if (isinstance(point, list) and point[0]>40 and point[1]<-73):\n",
    "          continue\n",
    "        else:\n",
    "          FLAG_prob = True\n",
    "      else:\n",
    "        FLAG_prob = True\n",
    "      y = float(point[0])\n",
    "      x = float(point[1])\n",
    "      point = [y ,x]\n",
    "    else:\n",
    "      FLAG_prob = True\n",
    "      point = util.point_from_str_point(point)\n",
    "      y = point.y\n",
    "      x = point.x\n",
    "      point = [y, x]\n",
    "      if not (y>40 and x<-73):\n",
    "        if x>40 and y<-73:\n",
    "          point = [x, y]\n",
    "\n",
    "    assert isinstance(y, float) and isinstance(x, float), print (type(y), type(x))\n",
    "    assert (isinstance(point, list) and point[0]>40 and point[1]<-73), print(point)\n",
    "    \n",
    "    if 'key' not in sample:\n",
    "      print (sample['assignmentId'])\n",
    "      continue\n",
    "    \n",
    "    if FLAG_prob:\n",
    "      print (f\"Verify PROB with {key}: {sample['key']} \")\n",
    "      id = sample['key']\n",
    "      # verify_ref.document(id).update(\n",
    "      #       {key: point})\n",
    "\n",
    "    "
   ]
  },
  {
   "cell_type": "code",
   "execution_count": 10,
   "metadata": {},
   "outputs": [
    {
     "name": "stdout",
     "output_type": "stream",
     "text": [
      "goal point - key: A320QA9HJFUOZO3UQVX1UPFSI75D8YT1UOUDLFGSZ2082| [40.7440722, -73.9746397]!= [40.7559416, -74.0021163]\n",
      "start point - key: A320QA9HJFUOZO3UQVX1UPFSI75D8YT1UOUDLFGSZ2082| [40.736282972305226, -73.98244241767452]!= [40.747489, -73.9971782]\n",
      "dist: 1759.0\n",
      "dict_keys(['predict_goal_point', 'key', 'rvs_goal_point', 'rvs_sample_number', 'key_instruction', 'work_id', 'task', 'assignmentId', 'hit_id', 'date_start', 'dist_m', 'rvs_path', 'date_finish', 'rvs_start_point'])\n"
     ]
    }
   ],
   "source": [
    "import util\n",
    "import math\n",
    "\n",
    "# UPDATE!!!\n",
    "content = \"marked in red\"\n",
    "\n",
    "# Check all distances are correct \n",
    "for i in range(0,instruction_ver.shape[0]):\n",
    "  sample = instruction_ver.iloc[i]\n",
    "  if sample['rvs_goal_point_y']!=sample['rvs_goal_point_x']:\n",
    "    point_goal_y = util.point_from_list_coord_yx(sample['rvs_goal_point_y'])\n",
    "    point_goal_x = util.point_from_list_coord_yx(sample['rvs_goal_point_x'])\n",
    "    dist = round(util.get_distance_between_points(point_goal_y, point_goal_x))\n",
    "    if dist>1:\n",
    "      print (f\"goal point - key: {sample['key_x']}| {sample['rvs_goal_point_x']}!= {sample['rvs_goal_point_y']}\")\n",
    "    if not isinstance(sample['rvs_goal_point_y'], list) and math.isnan(sample['rvs_goal_point_y']): \n",
    "      id = sample['key_y']\n",
    "      # verify_ref.document(id).update(\n",
    "      #     {'rvs_goal_point': sample['rvs_goal_point_x']})\n",
    "\n",
    " \n",
    "  if sample['rvs_start_point_x']!=sample['rvs_start_point_y']:\n",
    "    point_start_y = util.point_from_list_coord_yx(sample['rvs_start_point_y'])\n",
    "    point_start_x = util.point_from_list_coord_yx(sample['rvs_start_point_x'])\n",
    "\n",
    "    dist = round(util.get_distance_between_points(point_start_y, point_start_x))\n",
    "\n",
    "    if dist==0:\n",
    "      continue\n",
    "    print (f\"start point - key: {sample['key_x']}| {sample['rvs_start_point_x']}!= {sample['rvs_start_point_y']}\")\n",
    "\n",
    "    print (f\"dist: {dist}\")\n",
    "\n",
    "\n",
    "list_instruction_all_x = [x.to_dict() for x in list_instruction]\n",
    "dict_col = {'assignmentId': str, 'content': str, 'date_finish': str, 'date_start': str, 'hit_id': str, \n",
    "'work_id': str, 'rvs_sample_number': str, 'rvs_path': str, 'rvs_goal_point': list, 'rvs_start_point': list, \n",
    "'task': int, 'key': str, 'valid': bool, 'verified_n': int, 'region': str, 'review': str}\n",
    "should_be_coulmns = set(dict_col.keys())\n",
    "\n",
    "for sample in list_instruction_all_x: \n",
    "  keys = set(sample.keys())\n",
    "  difference = keys.difference(should_be_coulmns)\n",
    "  if len(difference)>0:\n",
    "    if len(difference)==1 and 'review' in difference:\n",
    "      continue\n",
    "    print (difference)\n",
    "  if content in sample['content']:\n",
    "    print (sample)\n",
    "\n",
    "  for key, value in sample.items():\n",
    "    if not isinstance(value, dict_col[key]):\n",
    "      print (f\"key: {key}. value: {value} {type(value)}\")\n",
    "\n",
    "\n",
    "  \n",
    "# calc distance\n",
    "\n",
    "list_verification_x = [x.to_dict() for x in list_verification]\n",
    "print (list_verification_x[0].keys())\n",
    "for sample in list_verification_x: \n",
    "  prediction = util.point_from_list_coord_yx(sample['predict_goal_point'])\n",
    "  if 'rvs_goal_point' not in sample:\n",
    "    if 'key_instruction' in sample:\n",
    "      rvs_goal_point = df_instruction[df_instruction['key_x']==sample['key_instruction']]['rvs_goal_point_x']\n",
    "      print (\"rvs_goal_point: \", rvs_goal_point)\n",
    "    else:\n",
    "      found_matches = df_instruction[\n",
    "        (\n",
    "          df_instruction['rvs_path']==str(sample['rvs_path'])) & (\n",
    "            df_instruction['rvs_sample_number']==str(sample['rvs_sample_number']))]\n",
    "      assert found_matches.shape[0] <= 1, print(found_matches.shape[0])\n",
    "      if found_matches.shape[0]==0:\n",
    "        print (f\"No such instruction: {sample['assignmentId']}| {sample['rvs_sample_number']}\")\n",
    "      else:\n",
    "        print (f\"one connection: {found_matches['key'].iloc[0]}\")\n",
    "        id = sample['key']\n",
    "        # verify_ref.document(id).update(\n",
    "        #   {'key_instruction': found_matches['key'].iloc[0]})\n",
    "\n",
    "\n",
    "      \n",
    "    # print (f\"NO rvs_goal_point. \\n assignmentId: {sample['assignmentId']}\")\n",
    "    continue \n",
    "  point_goal = util.point_from_list_coord_yx(sample['rvs_goal_point'])\n",
    "\n",
    "  dist_true = round(util.get_distance_between_points(prediction, point_goal))\n",
    "  if 'dist_m' not in sample:\n",
    "    print (f\"No dist_m. \\n assignmentId: {sample['assignmentId']}\")\n",
    "    id = sample['key']\n",
    "    # verify_ref.document(id).update(\n",
    "    #       {'dist_m': dist_true})\n",
    "    continue\n",
    "  dist_m = sample['dist_m']\n",
    "\n",
    "  if dist_true != dist_m:\n",
    "    print (f\"dist_true: {dist_true} | dist_m: {dist_m}\")\n",
    "\n"
   ]
  },
  {
   "cell_type": "code",
   "execution_count": 11,
   "metadata": {},
   "outputs": [],
   "source": [
    "#Update valid instructions\n",
    "valid_instructions_tmp = [\n",
    "  e.to_dict()['key'] for e in list_instruction if (\n",
    "   e.to_dict()['key'] in all_valid_instructions['key_x'].tolist()) ]\n",
    "\n",
    "len(valid_instructions_tmp)\n",
    "for id in valid_instructions_tmp:\n",
    "  instructions_ref.document(id).update(\n",
    "    {'valid': True})"
   ]
  },
  {
   "cell_type": "code",
   "execution_count": 13,
   "metadata": {},
   "outputs": [
    {
     "data": {
      "text/plain": [
       "692"
      ]
     },
     "execution_count": 13,
     "metadata": {},
     "output_type": "execute_result"
    }
   ],
   "source": [
    "#How much was not verified at all\n",
    "df_instruction[df_instruction['verified_n']==0].shape[0]"
   ]
  },
  {
   "cell_type": "code",
   "execution_count": 30,
   "metadata": {},
   "outputs": [
    {
     "name": "stdout",
     "output_type": "stream",
     "text": [
      "number of assignments for hit id 3G57RS03HH660KUZQ700B8H6X6O25J: 8\n"
     ]
    }
   ],
   "source": [
    "# Check number of completed assignments per HIT\n",
    "\n",
    "hit_id = \"3G57RS03HH660KUZQ700B8H6X6O25J\"\n",
    "assignments = [\n",
    "  e.to_dict()['key'] for e in list_instruction if (\n",
    "   e.to_dict()['hit_id']==hit_id) ]\n",
    "\n",
    "print(f\"number of assignments for hit id {hit_id}: {len(assignments)}\")\n"
   ]
  },
  {
   "cell_type": "code",
   "execution_count": 34,
   "metadata": {},
   "outputs": [
    {
     "name": "stdout",
     "output_type": "stream",
     "text": [
      "Go up the street you are on making a left at canal street. When you hit Canal street pharmacy go right. Keep going until you hit the bench at Columbus park.\n"
     ]
    },
    {
     "data": {
      "text/html": [
       "<div style=\"width:100%;\"><div style=\"position:relative;width:100%;height:0;padding-bottom:60%;\"><span style=\"color:#565656\">Make this Notebook Trusted to load map: File -> Trust Notebook</span><iframe src=\"about:blank\" style=\"position:absolute;width:100%;height:100%;left:0;top:0;border:none !important;\" data-html=PCFET0NUWVBFIGh0bWw+CjxoZWFkPiAgICAKICAgIDxtZXRhIGh0dHAtZXF1aXY9ImNvbnRlbnQtdHlwZSIgY29udGVudD0idGV4dC9odG1sOyBjaGFyc2V0PVVURi04IiAvPgogICAgCiAgICAgICAgPHNjcmlwdD4KICAgICAgICAgICAgTF9OT19UT1VDSCA9IGZhbHNlOwogICAgICAgICAgICBMX0RJU0FCTEVfM0QgPSBmYWxzZTsKICAgICAgICA8L3NjcmlwdD4KICAgIAogICAgPHNjcmlwdCBzcmM9Imh0dHBzOi8vY2RuLmpzZGVsaXZyLm5ldC9ucG0vbGVhZmxldEAxLjYuMC9kaXN0L2xlYWZsZXQuanMiPjwvc2NyaXB0PgogICAgPHNjcmlwdCBzcmM9Imh0dHBzOi8vY29kZS5qcXVlcnkuY29tL2pxdWVyeS0xLjEyLjQubWluLmpzIj48L3NjcmlwdD4KICAgIDxzY3JpcHQgc3JjPSJodHRwczovL21heGNkbi5ib290c3RyYXBjZG4uY29tL2Jvb3RzdHJhcC8zLjIuMC9qcy9ib290c3RyYXAubWluLmpzIj48L3NjcmlwdD4KICAgIDxzY3JpcHQgc3JjPSJodHRwczovL2NkbmpzLmNsb3VkZmxhcmUuY29tL2FqYXgvbGlicy9MZWFmbGV0LmF3ZXNvbWUtbWFya2Vycy8yLjAuMi9sZWFmbGV0LmF3ZXNvbWUtbWFya2Vycy5qcyI+PC9zY3JpcHQ+CiAgICA8bGluayByZWw9InN0eWxlc2hlZXQiIGhyZWY9Imh0dHBzOi8vY2RuLmpzZGVsaXZyLm5ldC9ucG0vbGVhZmxldEAxLjYuMC9kaXN0L2xlYWZsZXQuY3NzIi8+CiAgICA8bGluayByZWw9InN0eWxlc2hlZXQiIGhyZWY9Imh0dHBzOi8vbWF4Y2RuLmJvb3RzdHJhcGNkbi5jb20vYm9vdHN0cmFwLzMuMi4wL2Nzcy9ib290c3RyYXAubWluLmNzcyIvPgogICAgPGxpbmsgcmVsPSJzdHlsZXNoZWV0IiBocmVmPSJodHRwczovL21heGNkbi5ib290c3RyYXBjZG4uY29tL2Jvb3RzdHJhcC8zLjIuMC9jc3MvYm9vdHN0cmFwLXRoZW1lLm1pbi5jc3MiLz4KICAgIDxsaW5rIHJlbD0ic3R5bGVzaGVldCIgaHJlZj0iaHR0cHM6Ly9tYXhjZG4uYm9vdHN0cmFwY2RuLmNvbS9mb250LWF3ZXNvbWUvNC42LjMvY3NzL2ZvbnQtYXdlc29tZS5taW4uY3NzIi8+CiAgICA8bGluayByZWw9InN0eWxlc2hlZXQiIGhyZWY9Imh0dHBzOi8vY2RuanMuY2xvdWRmbGFyZS5jb20vYWpheC9saWJzL0xlYWZsZXQuYXdlc29tZS1tYXJrZXJzLzIuMC4yL2xlYWZsZXQuYXdlc29tZS1tYXJrZXJzLmNzcyIvPgogICAgPGxpbmsgcmVsPSJzdHlsZXNoZWV0IiBocmVmPSJodHRwczovL3Jhd2Nkbi5naXRoYWNrLmNvbS9weXRob24tdmlzdWFsaXphdGlvbi9mb2xpdW0vbWFzdGVyL2ZvbGl1bS90ZW1wbGF0ZXMvbGVhZmxldC5hd2Vzb21lLnJvdGF0ZS5jc3MiLz4KICAgIDxzdHlsZT5odG1sLCBib2R5IHt3aWR0aDogMTAwJTtoZWlnaHQ6IDEwMCU7bWFyZ2luOiAwO3BhZGRpbmc6IDA7fTwvc3R5bGU+CiAgICA8c3R5bGU+I21hcCB7cG9zaXRpb246YWJzb2x1dGU7dG9wOjA7Ym90dG9tOjA7cmlnaHQ6MDtsZWZ0OjA7fTwvc3R5bGU+CiAgICAKICAgICAgICAgICAgPG1ldGEgbmFtZT0idmlld3BvcnQiIGNvbnRlbnQ9IndpZHRoPWRldmljZS13aWR0aCwKICAgICAgICAgICAgICAgIGluaXRpYWwtc2NhbGU9MS4wLCBtYXhpbXVtLXNjYWxlPTEuMCwgdXNlci1zY2FsYWJsZT1ubyIgLz4KICAgICAgICAgICAgPHN0eWxlPgogICAgICAgICAgICAgICAgI21hcF8yZTgxMGVkZGU2NmE0MTE2YTEzMmU0ZDU1ODIxNzg2NCB7CiAgICAgICAgICAgICAgICAgICAgcG9zaXRpb246IHJlbGF0aXZlOwogICAgICAgICAgICAgICAgICAgIHdpZHRoOiAxMDAuMCU7CiAgICAgICAgICAgICAgICAgICAgaGVpZ2h0OiAxMDAuMCU7CiAgICAgICAgICAgICAgICAgICAgbGVmdDogMC4wJTsKICAgICAgICAgICAgICAgICAgICB0b3A6IDAuMCU7CiAgICAgICAgICAgICAgICB9CiAgICAgICAgICAgIDwvc3R5bGU+CiAgICAgICAgCjwvaGVhZD4KPGJvZHk+ICAgIAogICAgCiAgICAgICAgICAgIDxkaXYgY2xhc3M9ImZvbGl1bS1tYXAiIGlkPSJtYXBfMmU4MTBlZGRlNjZhNDExNmExMzJlNGQ1NTgyMTc4NjQiID48L2Rpdj4KICAgICAgICAKPC9ib2R5Pgo8c2NyaXB0PiAgICAKICAgIAogICAgICAgICAgICB2YXIgbWFwXzJlODEwZWRkZTY2YTQxMTZhMTMyZTRkNTU4MjE3ODY0ID0gTC5tYXAoCiAgICAgICAgICAgICAgICAibWFwXzJlODEwZWRkZTY2YTQxMTZhMTMyZTRkNTU4MjE3ODY0IiwKICAgICAgICAgICAgICAgIHsKICAgICAgICAgICAgICAgICAgICBjZW50ZXI6IFs0MC43MDUwNTk2LCAtNzQuMDE3ODc2Ml0sCiAgICAgICAgICAgICAgICAgICAgY3JzOiBMLkNSUy5FUFNHMzg1NywKICAgICAgICAgICAgICAgICAgICB6b29tOiAxNiwKICAgICAgICAgICAgICAgICAgICB6b29tQ29udHJvbDogdHJ1ZSwKICAgICAgICAgICAgICAgICAgICBwcmVmZXJDYW52YXM6IGZhbHNlLAogICAgICAgICAgICAgICAgfQogICAgICAgICAgICApOwoKICAgICAgICAgICAgCgogICAgICAgIAogICAgCiAgICAgICAgICAgIHZhciB0aWxlX2xheWVyXzA5MzQ0ZjM1MWFiMjQwZTE4ZGE3YmE2YTc3MjRlZjQwID0gTC50aWxlTGF5ZXIoCiAgICAgICAgICAgICAgICAiaHR0cHM6Ly97c30udGlsZS5vcGVuc3RyZWV0bWFwLm9yZy97en0ve3h9L3t5fS5wbmciLAogICAgICAgICAgICAgICAgeyJhdHRyaWJ1dGlvbiI6ICJEYXRhIGJ5IFx1MDAyNmNvcHk7IFx1MDAzY2EgaHJlZj1cImh0dHA6Ly9vcGVuc3RyZWV0bWFwLm9yZ1wiXHUwMDNlT3BlblN0cmVldE1hcFx1MDAzYy9hXHUwMDNlLCB1bmRlciBcdTAwM2NhIGhyZWY9XCJodHRwOi8vd3d3Lm9wZW5zdHJlZXRtYXAub3JnL2NvcHlyaWdodFwiXHUwMDNlT0RiTFx1MDAzYy9hXHUwMDNlLiIsICJkZXRlY3RSZXRpbmEiOiBmYWxzZSwgIm1heE5hdGl2ZVpvb20iOiAxOCwgIm1heFpvb20iOiAxOCwgIm1pblpvb20iOiAwLCAibm9XcmFwIjogZmFsc2UsICJvcGFjaXR5IjogMSwgInN1YmRvbWFpbnMiOiAiYWJjIiwgInRtcyI6IGZhbHNlfQogICAgICAgICAgICApLmFkZFRvKG1hcF8yZTgxMGVkZGU2NmE0MTE2YTEzMmU0ZDU1ODIxNzg2NCk7CiAgICAgICAgCiAgICAKICAgICAgICAgICAgdmFyIG1hcmtlcl9iMTQ2ZTlkNWRjY2M0MGJkOWU5ZDZhYWM4MjhjMDdmNCA9IEwubWFya2VyKAogICAgICAgICAgICAgICAgWzQwLjcwNTA1OTYsIC03NC4wMTc4NzYyXSwKICAgICAgICAgICAgICAgIHt9CiAgICAgICAgICAgICkuYWRkVG8obWFwXzJlODEwZWRkZTY2YTQxMTZhMTMyZTRkNTU4MjE3ODY0KTsKICAgICAgICAKICAgIAogICAgICAgICAgICB2YXIgaWNvbl8wMTdlZDU1ZDczMDE0N2Q0YjJlNTA5OWEyYjU3NzE3ZiA9IEwuQXdlc29tZU1hcmtlcnMuaWNvbigKICAgICAgICAgICAgICAgIHsiZXh0cmFDbGFzc2VzIjogImZhLXJvdGF0ZS0wIiwgImljb24iOiAiaW5mby1zaWduIiwgImljb25Db2xvciI6ICJ3aGl0ZSIsICJtYXJrZXJDb2xvciI6ICJyZWQiLCAicHJlZml4IjogImdseXBoaWNvbiJ9CiAgICAgICAgICAgICk7CiAgICAgICAgICAgIG1hcmtlcl9iMTQ2ZTlkNWRjY2M0MGJkOWU5ZDZhYWM4MjhjMDdmNC5zZXRJY29uKGljb25fMDE3ZWQ1NWQ3MzAxNDdkNGIyZTUwOTlhMmI1NzcxN2YpOwogICAgICAgIAogICAgCiAgICAgICAgdmFyIHBvcHVwXzNiMGE2MmRjNWM3NDQzYTViOTdjOGExN2MwYjMxZjdkID0gTC5wb3B1cCh7Im1heFdpZHRoIjogIjEwMCUifSk7CgogICAgICAgIAogICAgICAgICAgICB2YXIgaHRtbF85Njk2Yzg3ODc0Zjk0MmRhYjgxYzlhZDM4ZTdkM2YxMyA9ICQoYDxkaXYgaWQ9Imh0bWxfOTY5NmM4Nzg3NGY5NDJkYWI4MWM5YWQzOGU3ZDNmMTMiIHN0eWxlPSJ3aWR0aDogMTAwLjAlOyBoZWlnaHQ6IDEwMC4wJTsiPjxiPiBHb2FsOiBiZW5jaDxicj48L2I+X19fX19fX19fX19fX19fX19fX19fX188YnI+YW1lbml0eTogYmVuY2g8YnI+YmFja3Jlc3Q6IHllczwvZGl2PmApWzBdOwogICAgICAgICAgICBwb3B1cF8zYjBhNjJkYzVjNzQ0M2E1Yjk3YzhhMTdjMGIzMWY3ZC5zZXRDb250ZW50KGh0bWxfOTY5NmM4Nzg3NGY5NDJkYWI4MWM5YWQzOGU3ZDNmMTMpOwogICAgICAgIAoKICAgICAgICBtYXJrZXJfYjE0NmU5ZDVkY2NjNDBiZDllOWQ2YWFjODI4YzA3ZjQuYmluZFBvcHVwKHBvcHVwXzNiMGE2MmRjNWM3NDQzYTViOTdjOGExN2MwYjMxZjdkKQogICAgICAgIDsKCiAgICAgICAgCiAgICAKICAgIAogICAgICAgICAgICB2YXIgbWFya2VyXzEwOWEwMzA5NWE3YzRjNmRiZTFiYTg2NzJlNTliODgxID0gTC5tYXJrZXIoCiAgICAgICAgICAgICAgICBbNDAuNzAyNjA2NiwgLTc0LjAxMzg1NDZdLAogICAgICAgICAgICAgICAge30KICAgICAgICAgICAgKS5hZGRUbyhtYXBfMmU4MTBlZGRlNjZhNDExNmExMzJlNGQ1NTgyMTc4NjQpOwogICAgICAgIAogICAgCiAgICAgICAgICAgIHZhciBpY29uXzU1MzNiYzI0ZDBhYjQ4NzM4YjE5NmIwNjBhYWJhYzU2ID0gTC5Bd2Vzb21lTWFya2Vycy5pY29uKAogICAgICAgICAgICAgICAgeyJleHRyYUNsYXNzZXMiOiAiZmEtcm90YXRlLTAiLCAiaWNvbiI6ICJpbmZvLXNpZ24iLCAiaWNvbkNvbG9yIjogIndoaXRlIiwgIm1hcmtlckNvbG9yIjogImdyZWVuIiwgInByZWZpeCI6ICJnbHlwaGljb24ifQogICAgICAgICAgICApOwogICAgICAgICAgICBtYXJrZXJfMTA5YTAzMDk1YTdjNGM2ZGJlMWJhODY3MmU1OWI4ODEuc2V0SWNvbihpY29uXzU1MzNiYzI0ZDBhYjQ4NzM4YjE5NmIwNjBhYWJhYzU2KTsKICAgICAgICAKICAgIAogICAgICAgIHZhciBwb3B1cF8yMTM4MmM3NDFlNTg0ZTY5OGQ2MWFmYjYwMWJiYmU0YyA9IEwucG9wdXAoeyJtYXhXaWR0aCI6ICIxMDAlIn0pOwoKICAgICAgICAKICAgICAgICAgICAgdmFyIGh0bWxfYWI5MDA5YTJlODk5NDk0NDliZGU3YmJlYmUyYzE1MzIgPSAkKGA8ZGl2IGlkPSJodG1sX2FiOTAwOWEyZTg5OTQ5NDQ5YmRlN2JiZWJlMmMxNTMyIiBzdHlsZT0id2lkdGg6IDEwMC4wJTsgaGVpZ2h0OiAxMDAuMCU7Ij48Yj4gc3RhcnQgcG9pbnQ6IGJlbmNoPGJyPjwvYj5fX19fX19fX19fX19fX19fX19fX19fXzxicj5hbWVuaXR5OiBiZW5jaDxicj5iYWNrcmVzdDogeWVzPC9kaXY+YClbMF07CiAgICAgICAgICAgIHBvcHVwXzIxMzgyYzc0MWU1ODRlNjk4ZDYxYWZiNjAxYmJiZTRjLnNldENvbnRlbnQoaHRtbF9hYjkwMDlhMmU4OTk0OTQ0OWJkZTdiYmViZTJjMTUzMik7CiAgICAgICAgCgogICAgICAgIG1hcmtlcl8xMDlhMDMwOTVhN2M0YzZkYmUxYmE4NjcyZTU5Yjg4MS5iaW5kUG9wdXAocG9wdXBfMjEzODJjNzQxZTU4NGU2OThkNjFhZmI2MDFiYmJlNGMpCiAgICAgICAgOwoKICAgICAgICAKICAgIAogICAgCiAgICAgICAgICAgIHZhciBtYXJrZXJfYmRkYzFmNTkwOGViNGZkYTliOTRiNzNjMDdmZGE1ZWUgPSBMLm1hcmtlcigKICAgICAgICAgICAgICAgIFs0MC43MDM3MjU3LCAtNzQuMDE0NTY4XSwKICAgICAgICAgICAgICAgIHt9CiAgICAgICAgICAgICkuYWRkVG8obWFwXzJlODEwZWRkZTY2YTQxMTZhMTMyZTRkNTU4MjE3ODY0KTsKICAgICAgICAKICAgIAogICAgICAgICAgICB2YXIgaWNvbl82NjViNTRmYjIzYWU0MzUzYTZmYTYxOGYwYTdhYjYyOCA9IEwuQXdlc29tZU1hcmtlcnMuaWNvbigKICAgICAgICAgICAgICAgIHsiZXh0cmFDbGFzc2VzIjogImZhLXJvdGF0ZS0wIiwgImljb24iOiAiaW5mby1zaWduIiwgImljb25Db2xvciI6ICJ3aGl0ZSIsICJtYXJrZXJDb2xvciI6ICJibGFjayIsICJwcmVmaXgiOiAiZ2x5cGhpY29uIn0KICAgICAgICAgICAgKTsKICAgICAgICAgICAgbWFya2VyX2JkZGMxZjU5MDhlYjRmZGE5Yjk0YjczYzA3ZmRhNWVlLnNldEljb24oaWNvbl82NjViNTRmYjIzYWU0MzUzYTZmYTYxOGYwYTdhYjYyOCk7CiAgICAgICAgCiAgICAKICAgICAgICB2YXIgcG9wdXBfOTdlY2I5ZDYxYWFhNDNiODk4ZTgwZTM3N2QwMzI3ZmYgPSBMLnBvcHVwKHsibWF4V2lkdGgiOiAiMTAwJSJ9KTsKCiAgICAgICAgCiAgICAgICAgICAgIHZhciBodG1sXzUwMDE3YmZkM2Y0MjQ2NGM4MjMwZDg1ZjQ2YjY1YWViID0gJChgPGRpdiBpZD0iaHRtbF81MDAxN2JmZDNmNDI0NjRjODIzMGQ4NWY0NmI2NWFlYiIgc3R5bGU9IndpZHRoOiAxMDAuMCU7IGhlaWdodDogMTAwLjAlOyI+PGI+IEpvaG4gRXJpY3Nzb248YnI+PC9iPl9fX19fX19fX19fX19fX19fX19fX19fPGJyPm5hbWU6IEpvaG4gRXJpY3Nzb248YnI+dG91cmlzbTogYXJ0d29yazxicj5hcnR3b3JrIHR5cGU6IHN0YXR1ZTwvZGl2PmApWzBdOwogICAgICAgICAgICBwb3B1cF85N2VjYjlkNjFhYWE0M2I4OThlODBlMzc3ZDAzMjdmZi5zZXRDb250ZW50KGh0bWxfNTAwMTdiZmQzZjQyNDY0YzgyMzBkODVmNDZiNjVhZWIpOwogICAgICAgIAoKICAgICAgICBtYXJrZXJfYmRkYzFmNTkwOGViNGZkYTliOTRiNzNjMDdmZGE1ZWUuYmluZFBvcHVwKHBvcHVwXzk3ZWNiOWQ2MWFhYTQzYjg5OGU4MGUzNzdkMDMyN2ZmKQogICAgICAgIDsKCiAgICAgICAgCiAgICAKICAgIAogICAgICAgICAgICB2YXIgbWFya2VyXzY3NGM2YThlOWFiYzQ1ZTlhNWY1ZjIzOWMwNDU0YTdkID0gTC5tYXJrZXIoCiAgICAgICAgICAgICAgICBbNDAuNzA0MTEwNCwgLTc0LjAxNDQ0OF0sCiAgICAgICAgICAgICAgICB7fQogICAgICAgICAgICApLmFkZFRvKG1hcF8yZTgxMGVkZGU2NmE0MTE2YTEzMmU0ZDU1ODIxNzg2NCk7CiAgICAgICAgCiAgICAKICAgICAgICAgICAgdmFyIGljb25fYTBiOWI2N2JlODlmNDQ3NWFlMTgzMzU2ZjZiZDRhNzAgPSBMLkF3ZXNvbWVNYXJrZXJzLmljb24oCiAgICAgICAgICAgICAgICB7ImV4dHJhQ2xhc3NlcyI6ICJmYS1yb3RhdGUtMCIsICJpY29uIjogImluZm8tc2lnbiIsICJpY29uQ29sb3IiOiAid2hpdGUiLCAibWFya2VyQ29sb3IiOiAiYmxhY2siLCAicHJlZml4IjogImdseXBoaWNvbiJ9CiAgICAgICAgICAgICk7CiAgICAgICAgICAgIG1hcmtlcl82NzRjNmE4ZTlhYmM0NWU5YTVmNWYyMzljMDQ1NGE3ZC5zZXRJY29uKGljb25fYTBiOWI2N2JlODlmNDQ3NWFlMTgzMzU2ZjZiZDRhNzApOwogICAgICAgIAogICAgCiAgICAgICAgdmFyIHBvcHVwXzI2MzkzNzE0ODMyMTRkZGU4ZTEwYjU2ZmY0MmQ2ODA5ID0gTC5wb3B1cCh7Im1heFdpZHRoIjogIjEwMCUifSk7CgogICAgICAgIAogICAgICAgICAgICB2YXIgaHRtbF85YmJmYzhlMzRiZTE0NjEwOWQ1Yzg1NzRjNDg3NjIyYiA9ICQoYDxkaXYgaWQ9Imh0bWxfOWJiZmM4ZTM0YmUxNDYxMDlkNWM4NTc0YzQ4NzYyMmIiIHN0eWxlPSJ3aWR0aDogMTAwLjAlOyBoZWlnaHQ6IDEwMC4wJTsiPjxiPiBCdWcgYnVzMTI8YnI+PC9iPl9fX19fX19fX19fX19fX19fX19fX19fPGJyPm5hbWU6IEJ1ZyBidXMxMjxicj5wdWJsaWMgdHJhbnNwb3J0OiBzdGF0aW9uPGJyPmJ1czogeWVzPGJyPmFtZW5pdHk6IGJ1cyBzdGF0aW9uPGJyPm5hbWU6ZW46IEJ1ZyBidXMxMjwvZGl2PmApWzBdOwogICAgICAgICAgICBwb3B1cF8yNjM5MzcxNDgzMjE0ZGRlOGUxMGI1NmZmNDJkNjgwOS5zZXRDb250ZW50KGh0bWxfOWJiZmM4ZTM0YmUxNDYxMDlkNWM4NTc0YzQ4NzYyMmIpOwogICAgICAgIAoKICAgICAgICBtYXJrZXJfNjc0YzZhOGU5YWJjNDVlOWE1ZjVmMjM5YzA0NTRhN2QuYmluZFBvcHVwKHBvcHVwXzI2MzkzNzE0ODMyMTRkZGU4ZTEwYjU2ZmY0MmQ2ODA5KQogICAgICAgIDsKCiAgICAgICAgCiAgICAKICAgIAogICAgICAgICAgICB2YXIgbWFya2VyX2I0ZGUyYjE4MjRjYzRkNWNiOTFkNmIxYmI0YWRlNTU2ID0gTC5tYXJrZXIoCiAgICAgICAgICAgICAgICBbNDAuNzA0MTMxNSwgLTc0LjAxNDQ1NjJdLAogICAgICAgICAgICAgICAge30KICAgICAgICAgICAgKS5hZGRUbyhtYXBfMmU4MTBlZGRlNjZhNDExNmExMzJlNGQ1NTgyMTc4NjQpOwogICAgICAgIAogICAgCiAgICAgICAgICAgIHZhciBpY29uXzQxYjI0MDQxNDhjZDQxZjM5NDIwNDk0YWYzZjNjYTllID0gTC5Bd2Vzb21lTWFya2Vycy5pY29uKAogICAgICAgICAgICAgICAgeyJleHRyYUNsYXNzZXMiOiAiZmEtcm90YXRlLTAiLCAiaWNvbiI6ICJpbmZvLXNpZ24iLCAiaWNvbkNvbG9yIjogIndoaXRlIiwgIm1hcmtlckNvbG9yIjogImJsYWNrIiwgInByZWZpeCI6ICJnbHlwaGljb24ifQogICAgICAgICAgICApOwogICAgICAgICAgICBtYXJrZXJfYjRkZTJiMTgyNGNjNGQ1Y2I5MWQ2YjFiYjRhZGU1NTYuc2V0SWNvbihpY29uXzQxYjI0MDQxNDhjZDQxZjM5NDIwNDk0YWYzZjNjYTllKTsKICAgICAgICAKICAgIAogICAgICAgIHZhciBwb3B1cF83Y2U5ZjcyYTcyZTQ0OTU0OGU5MDRjZGNkYzMzZWM1MCA9IEwucG9wdXAoeyJtYXhXaWR0aCI6ICIxMDAlIn0pOwoKICAgICAgICAKICAgICAgICAgICAgdmFyIGh0bWxfZmUzNDA1OTkzMjU4NDRjZWI5OGM4MjZlYTk4NTViYTcgPSAkKGA8ZGl2IGlkPSJodG1sX2ZlMzQwNTk5MzI1ODQ0Y2ViOThjODI2ZWE5ODU1YmE3IiBzdHlsZT0id2lkdGg6IDEwMC4wJTsgaGVpZ2h0OiAxMDAuMCU7Ij48Yj4gQm93bGluZyBHcmVlbiBJUlQgQ29udHJvbCBIb3VzZTxicj48L2I+X19fX19fX19fX19fX19fX19fX19fX188YnI+bmFtZTogQm93bGluZyBHcmVlbiBJUlQgQ29udHJvbCBIb3VzZTxicj5oZWlnaHQ6IDYuMDxicj5sZXZlbDogMDxicj5idWlsZGluZzogdHJhaW4gc3RhdGlvbjxicj5idWlsZGluZzp5ZWFyIGJ1aWx0OiAxOTA1PC9kaXY+YClbMF07CiAgICAgICAgICAgIHBvcHVwXzdjZTlmNzJhNzJlNDQ5NTQ4ZTkwNGNkY2RjMzNlYzUwLnNldENvbnRlbnQoaHRtbF9mZTM0MDU5OTMyNTg0NGNlYjk4YzgyNmVhOTg1NWJhNyk7CiAgICAgICAgCgogICAgICAgIG1hcmtlcl9iNGRlMmIxODI0Y2M0ZDVjYjkxZDZiMWJiNGFkZTU1Ni5iaW5kUG9wdXAocG9wdXBfN2NlOWY3MmE3MmU0NDk1NDhlOTA0Y2RjZGMzM2VjNTApCiAgICAgICAgOwoKICAgICAgICAKICAgIAogICAgCiAgICAgICAgICAgIHZhciBtYXJrZXJfZGUxMzkxNmJhMWUyNDU2NDkwMzBlYTFiZTdmMmI4ODUgPSBMLm1hcmtlcigKICAgICAgICAgICAgICAgIFs0MC43MDQ0NDcsIC03NC4wMTc0MTc0XSwKICAgICAgICAgICAgICAgIHt9CiAgICAgICAgICAgICkuYWRkVG8obWFwXzJlODEwZWRkZTY2YTQxMTZhMTMyZTRkNTU4MjE3ODY0KTsKICAgICAgICAKICAgIAogICAgICAgICAgICB2YXIgaWNvbl8xNmQwMTFlMWUyOGU0NzI2YjlkYTk5MmE3YjkyZjE3NiA9IEwuQXdlc29tZU1hcmtlcnMuaWNvbigKICAgICAgICAgICAgICAgIHsiZXh0cmFDbGFzc2VzIjogImZhLXJvdGF0ZS0wIiwgImljb24iOiAiaW5mby1zaWduIiwgImljb25Db2xvciI6ICJ3aGl0ZSIsICJtYXJrZXJDb2xvciI6ICJibGFjayIsICJwcmVmaXgiOiAiZ2x5cGhpY29uIn0KICAgICAgICAgICAgKTsKICAgICAgICAgICAgbWFya2VyX2RlMTM5MTZiYTFlMjQ1NjQ5MDMwZWExYmU3ZjJiODg1LnNldEljb24oaWNvbl8xNmQwMTFlMWUyOGU0NzI2YjlkYTk5MmE3YjkyZjE3Nik7CiAgICAgICAgCiAgICAKICAgICAgICB2YXIgcG9wdXBfYTBiYmI0MzQ0ZjlmNDgzNWEwMzYyZDQ5Y2Y1MTExZDkgPSBMLnBvcHVwKHsibWF4V2lkdGgiOiAiMTAwJSJ9KTsKCiAgICAgICAgCiAgICAgICAgICAgIHZhciBodG1sXzcxNTQ1NjExMjdjNzQ2Zjk5MWFlMGE0N2NkMGYzZmVhID0gJChgPGRpdiBpZD0iaHRtbF83MTU0NTYxMTI3Yzc0NmY5OTFhZTBhNDdjZDBmM2ZlYSIgc3R5bGU9IndpZHRoOiAxMDAuMCU7IGhlaWdodDogMTAwLjAlOyI+PGI+IGJhcjxicj48L2I+X19fX19fX19fX19fX19fX19fX19fX188YnI+YW1lbml0eTogYmFyPGJyPmFkZHI6c3RyZWV0OiBCYXR0ZXJ5IFBsYWNlPC9kaXY+YClbMF07CiAgICAgICAgICAgIHBvcHVwX2EwYmJiNDM0NGY5ZjQ4MzVhMDM2MmQ0OWNmNTExMWQ5LnNldENvbnRlbnQoaHRtbF83MTU0NTYxMTI3Yzc0NmY5OTFhZTBhNDdjZDBmM2ZlYSk7CiAgICAgICAgCgogICAgICAgIG1hcmtlcl9kZTEzOTE2YmExZTI0NTY0OTAzMGVhMWJlN2YyYjg4NS5iaW5kUG9wdXAocG9wdXBfYTBiYmI0MzQ0ZjlmNDgzNWEwMzYyZDQ5Y2Y1MTExZDkpCiAgICAgICAgOwoKICAgICAgICAKICAgIAogICAgCiAgICAgICAgICAgIHZhciBtYXJrZXJfNWRiYWZmODgyOWFhNDAxYmJmNWQ2Y2FjZGUzZGNlNmIgPSBMLm1hcmtlcigKICAgICAgICAgICAgICAgIFs0MC43MDU0Njg1LCAtNzQuMDE4MjA3OV0sCiAgICAgICAgICAgICAgICB7fQogICAgICAgICAgICApLmFkZFRvKG1hcF8yZTgxMGVkZGU2NmE0MTE2YTEzMmU0ZDU1ODIxNzg2NCk7CiAgICAgICAgCiAgICAKICAgICAgICAgICAgdmFyIGljb25fMWJlZGE5ZTlmNDgzNDM0YTg1NWYzN2Y4NjY5MGRhNWUgPSBMLkF3ZXNvbWVNYXJrZXJzLmljb24oCiAgICAgICAgICAgICAgICB7ImV4dHJhQ2xhc3NlcyI6ICJmYS1yb3RhdGUtMCIsICJpY29uIjogImluZm8tc2lnbiIsICJpY29uQ29sb3IiOiAid2hpdGUiLCAibWFya2VyQ29sb3IiOiAiYmxhY2siLCAicHJlZml4IjogImdseXBoaWNvbiJ9CiAgICAgICAgICAgICk7CiAgICAgICAgICAgIG1hcmtlcl81ZGJhZmY4ODI5YWE0MDFiYmY1ZDZjYWNkZTNkY2U2Yi5zZXRJY29uKGljb25fMWJlZGE5ZTlmNDgzNDM0YTg1NWYzN2Y4NjY5MGRhNWUpOwogICAgICAgIAogICAgCiAgICAgICAgdmFyIHBvcHVwXzYwYjBhMTQyOTllZjRlNzc5NDgyNDA5NmI3MjQyMzIwID0gTC5wb3B1cCh7Im1heFdpZHRoIjogIjEwMCUifSk7CgogICAgICAgIAogICAgICAgICAgICB2YXIgaHRtbF84NjRlMTQxMDAyNzQ0MmM5YjNmNzJmZDk0YWNlOWI5YSA9ICQoYDxkaXYgaWQ9Imh0bWxfODY0ZTE0MTAwMjc0NDJjOWIzZjcyZmQ5NGFjZTliOWEiIHN0eWxlPSJ3aWR0aDogMTAwLjAlOyBoZWlnaHQ6IDEwMC4wJTsiPjxiPiBiZW5jaDxicj48L2I+X19fX19fX19fX19fX19fX19fX19fX188YnI+YW1lbml0eTogYmVuY2g8YnI+YmFja3Jlc3Q6IHllczwvZGl2PmApWzBdOwogICAgICAgICAgICBwb3B1cF82MGIwYTE0Mjk5ZWY0ZTc3OTQ4MjQwOTZiNzI0MjMyMC5zZXRDb250ZW50KGh0bWxfODY0ZTE0MTAwMjc0NDJjOWIzZjcyZmQ5NGFjZTliOWEpOwogICAgICAgIAoKICAgICAgICBtYXJrZXJfNWRiYWZmODgyOWFhNDAxYmJmNWQ2Y2FjZGUzZGNlNmIuYmluZFBvcHVwKHBvcHVwXzYwYjBhMTQyOTllZjRlNzc5NDgyNDA5NmI3MjQyMzIwKQogICAgICAgIDsKCiAgICAgICAgCiAgICAKICAgIAogICAgICAgICAgICB2YXIgbWFya2VyXzMxOTBmZGI1NTg1YTRkMjFhMDE1YTdmZDhhMzY1YjZiID0gTC5tYXJrZXIoCiAgICAgICAgICAgICAgICBbNDAuNzA1NjkyNSwgLTc0LjAxNjc3NjldLAogICAgICAgICAgICAgICAge30KICAgICAgICAgICAgKS5hZGRUbyhtYXBfMmU4MTBlZGRlNjZhNDExNmExMzJlNGQ1NTgyMTc4NjQpOwogICAgICAgIAogICAgCiAgICAgICAgICAgIHZhciBpY29uX2UwMDcwNzc4MWVhZjRkZjViMDQ1MzFlYzU4NDMxOTI1ID0gTC5Bd2Vzb21lTWFya2Vycy5pY29uKAogICAgICAgICAgICAgICAgeyJleHRyYUNsYXNzZXMiOiAiZmEtcm90YXRlLTAiLCAiaWNvbiI6ICJpbmZvLXNpZ24iLCAiaWNvbkNvbG9yIjogIndoaXRlIiwgIm1hcmtlckNvbG9yIjogImJsYWNrIiwgInByZWZpeCI6ICJnbHlwaGljb24ifQogICAgICAgICAgICApOwogICAgICAgICAgICBtYXJrZXJfMzE5MGZkYjU1ODVhNGQyMWEwMTVhN2ZkOGEzNjViNmIuc2V0SWNvbihpY29uX2UwMDcwNzc4MWVhZjRkZjViMDQ1MzFlYzU4NDMxOTI1KTsKICAgICAgICAKICAgIAogICAgICAgIHZhciBwb3B1cF8wMmY5MWJmZDg1NzM0MmJkODFiMzRlYTVhMjIzODUyZSA9IEwucG9wdXAoeyJtYXhXaWR0aCI6ICIxMDAlIn0pOwoKICAgICAgICAKICAgICAgICAgICAgdmFyIGh0bWxfZjgzNzM5M2Y2ZGIyNGE1MzhkMGY4ODFhMzdjMTUzMjcgPSAkKGA8ZGl2IGlkPSJodG1sX2Y4MzczOTNmNmRiMjRhNTM4ZDBmODgxYTM3YzE1MzI3IiBzdHlsZT0id2lkdGg6IDEwMC4wJTsgaGVpZ2h0OiAxMDAuMCU7Ij48Yj4gYmljeWNsZSByZW50YWw8YnI+PC9iPl9fX19fX19fX19fX19fX19fX19fX19fPGJyPm5hbWU6IENpdGkgQmlrZSAtIExpdHRsZSBXZXN0IFN0ICYgMSBQbDxicj5uZXR3b3JrOiBDaXRpIEJpa2U8YnI+b3BlcmF0b3I6IENpdGkgQmlrZTxicj5hbWVuaXR5OiBiaWN5Y2xlIHJlbnRhbDxicj5icmFuZDogQ2l0aSBCaWtlPGJyPmJyYW5kOndpa2lkYXRhOiBRMjk3NDQzODxicj5icmFuZDp3aWtpcGVkaWE6IGVuOkNpdGkgQmlrZTxicj5vcGVyYXRvcjp3aWtpZGF0YTogUTI5NzQ0Mzg8YnI+b3BlcmF0b3I6d2lraXBlZGlhOiBlbjpDaXRpIEJpa2U8YnI+Y2FwYWNpdHk6IDI0PGJyPm5ldHdvcms6d2lraWRhdGE6IFEyOTc0NDM4PGJyPm5ldHdvcms6d2lraXBlZGlhOiBlbjpDaXRpIEJpa2U8L2Rpdj5gKVswXTsKICAgICAgICAgICAgcG9wdXBfMDJmOTFiZmQ4NTczNDJiZDgxYjM0ZWE1YTIyMzg1MmUuc2V0Q29udGVudChodG1sX2Y4MzczOTNmNmRiMjRhNTM4ZDBmODgxYTM3YzE1MzI3KTsKICAgICAgICAKCiAgICAgICAgbWFya2VyXzMxOTBmZGI1NTg1YTRkMjFhMDE1YTdmZDhhMzY1YjZiLmJpbmRQb3B1cChwb3B1cF8wMmY5MWJmZDg1NzM0MmJkODFiMzRlYTVhMjIzODUyZSkKICAgICAgICA7CgogICAgICAgIAogICAgCiAgICAKICAgICAgICAgICAgdmFyIG1hcmtlcl83NjJmMWMyOGUwZGQ0MjFmYWE1MzFlZWFlY2ZhYjIyZSA9IEwubWFya2VyKAogICAgICAgICAgICAgICAgWzQwLjcwNTc4MTMsIC03NC4wMTgyNDIyXSwKICAgICAgICAgICAgICAgIHt9CiAgICAgICAgICAgICkuYWRkVG8obWFwXzJlODEwZWRkZTY2YTQxMTZhMTMyZTRkNTU4MjE3ODY0KTsKICAgICAgICAKICAgIAogICAgICAgICAgICB2YXIgaWNvbl9jZWU5ZmYzMDM3MjY0NDRmODAyN2QyOWQ4ZGZjNDRmNCA9IEwuQXdlc29tZU1hcmtlcnMuaWNvbigKICAgICAgICAgICAgICAgIHsiZXh0cmFDbGFzc2VzIjogImZhLXJvdGF0ZS0wIiwgImljb24iOiAiaW5mby1zaWduIiwgImljb25Db2xvciI6ICJ3aGl0ZSIsICJtYXJrZXJDb2xvciI6ICJibGFjayIsICJwcmVmaXgiOiAiZ2x5cGhpY29uIn0KICAgICAgICAgICAgKTsKICAgICAgICAgICAgbWFya2VyXzc2MmYxYzI4ZTBkZDQyMWZhYTUzMWVlYWVjZmFiMjJlLnNldEljb24oaWNvbl9jZWU5ZmYzMDM3MjY0NDRmODAyN2QyOWQ4ZGZjNDRmNCk7CiAgICAgICAgCiAgICAKICAgICAgICB2YXIgcG9wdXBfZTM3NDhlZTZjNGY2NDQ5MGFhYTk0NGRiNjZlZTkxY2MgPSBMLnBvcHVwKHsibWF4V2lkdGgiOiAiMTAwJSJ9KTsKCiAgICAgICAgCiAgICAgICAgICAgIHZhciBodG1sX2ZhNjNiMzZhMWVjMTQxZWNiZmQyYzgxZDkyN2JjMjRhID0gJChgPGRpdiBpZD0iaHRtbF9mYTYzYjM2YTFlYzE0MWVjYmZkMmM4MWQ5MjdiYzI0YSIgc3R5bGU9IndpZHRoOiAxMDAuMCU7IGhlaWdodDogMTAwLjAlOyI+PGI+IHNpeHR5LXNldmVuIGJlbmNoZXM8YnI+PC9iPl9fX19fX19fX19fX19fX19fX19fX19fPGJyPmFtZW5pdHk6IGJlbmNoPGJyPmJhY2tyZXN0OiB5ZXM8L2Rpdj5gKVswXTsKICAgICAgICAgICAgcG9wdXBfZTM3NDhlZTZjNGY2NDQ5MGFhYTk0NGRiNjZlZTkxY2Muc2V0Q29udGVudChodG1sX2ZhNjNiMzZhMWVjMTQxZWNiZmQyYzgxZDkyN2JjMjRhKTsKICAgICAgICAKCiAgICAgICAgbWFya2VyXzc2MmYxYzI4ZTBkZDQyMWZhYTUzMWVlYWVjZmFiMjJlLmJpbmRQb3B1cChwb3B1cF9lMzc0OGVlNmM0ZjY0NDkwYWFhOTQ0ZGI2NmVlOTFjYykKICAgICAgICA7CgogICAgICAgIAogICAgCiAgICAKICAgICAgICAgICAgdmFyIG1hcmtlcl85YjY0N2NmNGJlOGY0MWExYTZmMzVlMmFlYmRiMTA1ZSA9IEwubWFya2VyKAogICAgICAgICAgICAgICAgWzQwLjcwNTc0ODg0ODY3MTU1LCAtNzQuMDE4NTgyNDk4NzMxNV0sCiAgICAgICAgICAgICAgICB7fQogICAgICAgICAgICApLmFkZFRvKG1hcF8yZTgxMGVkZGU2NmE0MTE2YTEzMmU0ZDU1ODIxNzg2NCk7CiAgICAgICAgCiAgICAKICAgICAgICAgICAgdmFyIGljb25fMDMzMjVkYWE2YzNiNDJjZmFkMzE3YjcwMWVlMTU4ZmEgPSBMLkF3ZXNvbWVNYXJrZXJzLmljb24oCiAgICAgICAgICAgICAgICB7ImV4dHJhQ2xhc3NlcyI6ICJmYS1yb3RhdGUtMCIsICJpY29uIjogImluZm8tc2lnbiIsICJpY29uQ29sb3IiOiAid2hpdGUiLCAibWFya2VyQ29sb3IiOiAiYmxhY2siLCAicHJlZml4IjogImdseXBoaWNvbiJ9CiAgICAgICAgICAgICk7CiAgICAgICAgICAgIG1hcmtlcl85YjY0N2NmNGJlOGY0MWExYTZmMzVlMmFlYmRiMTA1ZS5zZXRJY29uKGljb25fMDMzMjVkYWE2YzNiNDJjZmFkMzE3YjcwMWVlMTU4ZmEpOwogICAgICAgIAogICAgCiAgICAgICAgdmFyIHBvcHVwX2RhNzAzMDVhZjU2MTQzYWM4M2E3NzJlOWZlMjg3ZjFlID0gTC5wb3B1cCh7Im1heFdpZHRoIjogIjEwMCUifSk7CgogICAgICAgIAogICAgICAgICAgICB2YXIgaHRtbF8yY2I1YmE5NzJhNWY0ZDVjODI5MTE4OWY5MjFhMWQxYyA9ICQoYDxkaXYgaWQ9Imh0bWxfMmNiNWJhOTcyYTVmNGQ1YzgyOTExODlmOTIxYTFkMWMiIHN0eWxlPSJ3aWR0aDogMTAwLjAlOyBoZWlnaHQ6IDEwMC4wJTsiPjxiPiBtdXNldW08YnI+PC9iPl9fX19fX19fX19fX19fX19fX19fX19fPGJyPm5hbWU6IE11c2V1bSBvZiBKZXdpc2ggSGVyaXRhZ2U8YnI+bmFtZTpkZTogSsO8ZGlzY2hlcyBNdXNldW08YnI+d2lraXBlZGlhOiBlbjpNdXNldW0gb2YgSmV3aXNoIEhlcml0YWdlPGJyPnRvdXJpc206IG11c2V1bTxicj50eXBlOiBtdWx0aXBvbHlnb248YnI+c3RhcnQgZGF0ZTogMTk5NzwvZGl2PmApWzBdOwogICAgICAgICAgICBwb3B1cF9kYTcwMzA1YWY1NjE0M2FjODNhNzcyZTlmZTI4N2YxZS5zZXRDb250ZW50KGh0bWxfMmNiNWJhOTcyYTVmNGQ1YzgyOTExODlmOTIxYTFkMWMpOwogICAgICAgIAoKICAgICAgICBtYXJrZXJfOWI2NDdjZjRiZThmNDFhMWE2ZjM1ZTJhZWJkYjEwNWUuYmluZFBvcHVwKHBvcHVwX2RhNzAzMDVhZjU2MTQzYWM4M2E3NzJlOWZlMjg3ZjFlKQogICAgICAgIDsKCiAgICAgICAgCiAgICAKICAgIAogICAgICAgIGZ1bmN0aW9uIGdlb19qc29uXzM2ZWQwMDQ0YzdhNzQ0NjU5Yjg5NzI0NmFjNTA2ZDAyX3N0eWxlcihmZWF0dXJlKSB7CiAgICAgICAgICAgIHN3aXRjaChmZWF0dXJlLmlkKSB7CiAgICAgICAgICAgICAgICBkZWZhdWx0OgogICAgICAgICAgICAgICAgICAgIHJldHVybiB7ImNvbG9yIjogImNyaW1zb24iLCAiZmlsbENvbG9yIjogImNyaW1zb24iLCAiZmlsbE9wYWNpdHkiOiAxLCAid2VpZ2h0IjogNX07CiAgICAgICAgICAgIH0KICAgICAgICB9CiAgICAgICAgZnVuY3Rpb24gZ2VvX2pzb25fMzZlZDAwNDRjN2E3NDQ2NTliODk3MjQ2YWM1MDZkMDJfb25FYWNoRmVhdHVyZShmZWF0dXJlLCBsYXllcikgewogICAgICAgICAgICBsYXllci5vbih7CiAgICAgICAgICAgICAgICBjbGljazogZnVuY3Rpb24oZSkgewogICAgICAgICAgICAgICAgICAgIG1hcF8yZTgxMGVkZGU2NmE0MTE2YTEzMmU0ZDU1ODIxNzg2NC5maXRCb3VuZHMoZS50YXJnZXQuZ2V0Qm91bmRzKCkpOwogICAgICAgICAgICAgICAgfQogICAgICAgICAgICB9KTsKICAgICAgICB9OwogICAgICAgIHZhciBnZW9fanNvbl8zNmVkMDA0NGM3YTc0NDY1OWI4OTcyNDZhYzUwNmQwMiA9IEwuZ2VvSnNvbihudWxsLCB7CiAgICAgICAgICAgICAgICBvbkVhY2hGZWF0dXJlOiBnZW9fanNvbl8zNmVkMDA0NGM3YTc0NDY1OWI4OTcyNDZhYzUwNmQwMl9vbkVhY2hGZWF0dXJlLAogICAgICAgICAgICAKICAgICAgICAgICAgICAgIHN0eWxlOiBnZW9fanNvbl8zNmVkMDA0NGM3YTc0NDY1OWI4OTcyNDZhYzUwNmQwMl9zdHlsZXIsCiAgICAgICAgfSkuYWRkVG8obWFwXzJlODEwZWRkZTY2YTQxMTZhMTMyZTRkNTU4MjE3ODY0KTsKCiAgICAgICAgZnVuY3Rpb24gZ2VvX2pzb25fMzZlZDAwNDRjN2E3NDQ2NTliODk3MjQ2YWM1MDZkMDJfYWRkIChkYXRhKSB7CiAgICAgICAgICAgIGdlb19qc29uXzM2ZWQwMDQ0YzdhNzQ0NjU5Yjg5NzI0NmFjNTA2ZDAyLmFkZERhdGEoZGF0YSk7CiAgICAgICAgfQogICAgICAgICAgICBnZW9fanNvbl8zNmVkMDA0NGM3YTc0NDY1OWI4OTcyNDZhYzUwNmQwMl9hZGQoeyJmZWF0dXJlcyI6IFt7Imdlb21ldHJ5IjogeyJjb29yZGluYXRlcyI6IFtbLTc0LjAxMzg1NDYsIDQwLjcwMjYwNjZdLCBbLTc0LjAxMzg3NDMxMzczMTU2LCA0MC43MDI1ODM3MDMxMzM4MDRdLCBbLTc0LjAxMzg4OTIzNzk2OTg2LCA0MC43MDI1OTY1NTI1OTY0OF0sIFstNzQuMDEzOTEzOCwgNDAuNzAyNjE3N10sIFstNzQuMDE0MDY5ODc2MjIwNzksIDQwLjcwMjc1ODM2MzY5Mzk4XSwgWy03NC4wMTQyMTE3ODYzNTQzMiwgNDAuNzAyOTMyMTk5MjE4NzVdLCBbLTc0LjAxNDI3NzIsIDQwLjcwMzEwMTldLCBbLTc0LjAxNDMwMjUsIDQwLjcwMzE2MDVdLCBbLTc0LjAxNDMzLCA0MC43MDMyMzIyXSwgWy03NC4wMTQyNzksIDQwLjcwMzU1ODNdLCBbLTc0LjAxNDI2OSwgNDAuNzAzNjExNF0sIFstNzQuMDE0MjY3NiwgNDAuNzAzNjY2OF0sIFstNzQuMDE0MzkxNiwgNDAuNzAzNjczXSwgWy03NC4wMTQ1MjM2LCA0MC43MDM2ODI3XSwgWy03NC4wMTQ1MjI0MzExNjgzNiwgNDAuNzAzNjg4ODczMDc1NjM1XSwgWy03NC4wMTQ1MTcyNzY3MDg2NiwgNDAuNzAzNzE2MDk1ODc1MzhdLCBbLTc0LjAxNDQ4ODIxMzI0NzU2LCA0MC43MDM4NTIwNzgwMDU1XSwgWy03NC4wMTQ0NTUyLCA0MC43MDM5ODkxXSwgWy03NC4wMTQ0MjcxNjk0NjM1NiwgNDAuNzA0MTA1Mzc4NTEyMzc0XSwgWy03NC4wMTQ0MjI3ODUwMDUwMSwgNDAuNzA0MTIzNTY2NDczOV0sIFstNzQuMDE0NDIyNzM1MzA5NywgNDAuNzA0MTIzNzcyNjIzOTldLCBbLTc0LjAxNDQxNjA3NDA2NTU1LCA0MC43MDQxNTE0MDUzMjk1XSwgWy03NC4wMTQzNzU3MDE3NzIzMiwgNDAuNzA0NDA4MDg5MTI1ODhdLCBbLTc0LjAxNDM3NjUwMjU1MzEyLCA0MC43MDQ0MTk2NDQzMTc4OV0sIFstNzQuMDE0MzgxNiwgNDAuNzA0NDkzMl0sIFstNzQuMDE0NDQyOCwgNDAuNzA0NTIwOV0sIFstNzQuMDE0OTAyOSwgNDAuNzA0NjI0OF0sIFstNzQuMDE1MDAzNSwgNDAuNzA0NjQ1MV0sIFstNzQuMDE1MTA1NCwgNDAuNzA0NjYyM10sIFstNzQuMDE1NTY3MSwgNDAuNzA0NzM1OF0sIFstNzQuMDE1NzY0MywgNDAuNzA0NzQ1N10sIFstNzQuMDE2MjU1OSwgNDAuNzA0NzAzM10sIFstNzQuMDE2NDI5MSwgNDAuNzA0NzAwOF0sIFstNzQuMDE2NzcxNTk4NzQ0NTEsIDQwLjcwNDcwNzI5NzA0ODc4NV0sIFstNzQuMDE3MjI3MSwgNDAuNzA0Nzc0N10sIFstNzQuMDE3NDA2NTQyNDg0MDEsIDQwLjcwNDg1NDY0OTA0MTYzNl0sIFstNzQuMDE3NTAxOCwgNDAuNzA0OTAxNF0sIFstNzQuMDE3NTczNCwgNDAuNzA0ODM2NV0sIFstNzQuMDE3NjE3NjM5MzE4OCwgNDAuNzA0ODY0MTgyMzkyNzNdLCBbLTc0LjAxNzY0NTM3Mjg2MzI5LCA0MC43MDQ4ODE1MzY0MzE4ODRdLCBbLTc0LjAxNzY4MzI5ODU0NzE0LCA0MC43MDQ5MDUyNjgxMTkwOF0sIFstNzQuMDE3NzE2MTk5MDUwNTgsIDQwLjcwNDkyNTg1NTM0MDYyNl0sIFstNzQuMDE3NzQyNDA3MzYzMjcsIDQwLjcwNDk0MjI1NDk3ODQzXSwgWy03NC4wMTc4MDQyMjUxOTEwOSwgNDAuNzA0OTgwOTM2OTc5NzRdLCBbLTc0LjAxNzgzODAzNDUyNywgNDAuNzA1MDAyMDkyODk1NzldLCBbLTc0LjAxNzg0MywgNDAuNzA1MDA1Ml0sIFstNzQuMDE3ODkxMTc1NTgwMTMsIDQwLjcwNTAzNjY4NzUwOTY1XSwgWy03NC4wMTc4NzYyLCA0MC43MDUwNTk2XV0sICJ0eXBlIjogIkxpbmVTdHJpbmcifSwgImlkIjogIjAiLCAidHlwZSI6ICJGZWF0dXJlIn1dLCAidHlwZSI6ICJGZWF0dXJlQ29sbGVjdGlvbiJ9KTsKICAgICAgICAKPC9zY3JpcHQ+ onload=\"this.contentDocument.open();this.contentDocument.write(atob(this.getAttribute('data-html')));this.contentDocument.close();\" allowfullscreen webkitallowfullscreen mozallowfullscreen></iframe></div></div>"
      ],
      "text/plain": [
       "<folium.folium.Map at 0x7f8e6dbf8850>"
      ]
     },
     "execution_count": 34,
     "metadata": {},
     "output_type": "execute_result"
    }
   ],
   "source": [
    "# visualize geosample with instruction\n",
    "\n",
    "sample = 0\n",
    "instruction = df_instruction[df_instruction['key']=='A3774HPOUKYTX736GJS3V78VR4MDHREOPJEMUCJINGJF1'].iloc[0]\n",
    "path_geodata = instruction['rvs_path']\n",
    "final_path_geodata = os.path.join(parent_dir, path_geodata.replace(\"/app_instructor/\", \"\"))\n",
    "map_osm, _, _, _, _ = visualize.get_maps_and_instructions(final_path_geodata)[0]\n",
    "print (instruction['content'])\n",
    "map_osm\n"
   ]
  },
  {
   "cell_type": "code",
   "execution_count": 39,
   "metadata": {},
   "outputs": [
    {
     "name": "stdout",
     "output_type": "stream",
     "text": [
      "/home/onlp_gcp_biu/tzuf/cabby/app/data/human/instructions.json\n"
     ]
    }
   ],
   "source": [
    "# Save instructions to data/human\n",
    "current_dir = os.getcwd()\n",
    "parent_dir = Path(current_dir).parent.absolute()\n",
    "path_instructions = os.path.join(parent_dir, \"data/human/instructions.json\")\n",
    "\n",
    "print (path_instructions)\n",
    "all_data.to_json(path_instructions, lines=False)"
   ]
  }
 ],
 "metadata": {
  "kernelspec": {
   "display_name": "Python 3.7.6 ('cabby')",
   "language": "python",
   "name": "python3"
  },
  "language_info": {
   "codemirror_mode": {
    "name": "ipython",
    "version": 3
   },
   "file_extension": ".py",
   "mimetype": "text/x-python",
   "name": "python",
   "nbconvert_exporter": "python",
   "pygments_lexer": "ipython3",
   "version": "3.7.6"
  },
  "orig_nbformat": 4,
  "vscode": {
   "interpreter": {
    "hash": "b4f7931bd1c7b434da22e6e2a403714cff5dfb0632842e0d408cece9249e76e8"
   }
  }
 },
 "nbformat": 4,
 "nbformat_minor": 2
}
