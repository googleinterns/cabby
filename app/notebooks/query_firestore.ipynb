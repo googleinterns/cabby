{
 "cells": [
  {
   "cell_type": "code",
   "execution_count": 13,
   "metadata": {},
   "outputs": [],
   "source": [
    "import firebase_admin\n",
    "from firebase_admin import firestore\n",
    "import os\n",
    "import pandas as pd\n",
    "from pathlib import Path\n",
    "\n"
   ]
  },
  {
   "cell_type": "code",
   "execution_count": 4,
   "metadata": {},
   "outputs": [],
   "source": [
    "cred = firebase_admin.credentials.Certificate('key.json')\n",
    "default_app = firebase_admin.initialize_app(cred)\n",
    "db = firestore.client()\n",
    "instructions_ref = db.collection('instructions')\n",
    "verify_ref = db.collection('verification')\n"
   ]
  },
  {
   "cell_type": "code",
   "execution_count": 5,
   "metadata": {},
   "outputs": [
    {
     "data": {
      "text/plain": [
       "(3171, 3374)"
      ]
     },
     "execution_count": 5,
     "metadata": {},
     "output_type": "execute_result"
    }
   ],
   "source": [
    "list_instruction = list(instructions_ref.get())\n",
    "list_verification = list(verify_ref.get())\n",
    "len(list_instruction), len(list_verification)\n"
   ]
  },
  {
   "cell_type": "code",
   "execution_count": 17,
   "metadata": {},
   "outputs": [
    {
     "data": {
      "text/plain": [
       "['1',\n",
       " 'AY7WPVKHVNBLG',\n",
       " 'A1198W1SPF1R4',\n",
       " 'A3QAL3X23LHJRV',\n",
       " 'A3GWRDHAURRNK6',\n",
       " 'A2DDPSXH2X96RF',\n",
       " 'ALYR5CI2SM2JC',\n",
       " 'A320QA9HJFUOZO',\n",
       " 'APRZ7BR8C0ZMQ',\n",
       " 'A3862RIFFUV141',\n",
       " 'A1AKL5YH9NLD2V',\n",
       " 'A2WX434EAQOE29',\n",
       " 'AYIFHDQSXQJ6B']"
      ]
     },
     "execution_count": 17,
     "metadata": {},
     "output_type": "execute_result"
    }
   ],
   "source": [
    "# Qualified workers\n",
    "current_dir = os.getcwd()\n",
    "parent_dir = Path(current_dir).parent.absolute()\n",
    "path_qualified = os.path.join(parent_dir, \"qualified_workers.csv\")\n",
    "\n",
    "qualified_work_list = pd.read_csv(path_qualified, header=None)[0].tolist()\n",
    "\n",
    "qualified_work_list"
   ]
  },
  {
   "cell_type": "code",
   "execution_count": 19,
   "metadata": {},
   "outputs": [],
   "source": [
    "# Set qualified instructions as RVS_excellent \n",
    "qualified_instructions = [\n",
    "  e.to_dict()['key'] for e in list_instruction if (\n",
    "    e.to_dict()['work_id'] in qualified_work_list) ]\n",
    "\n",
    "for id in qualified_instructions:\n",
    "  instructions_ref.document(id).update(\n",
    "    {'review': 'RVS_excellent'})\n"
   ]
  },
  {
   "cell_type": "code",
   "execution_count": null,
   "metadata": {},
   "outputs": [],
   "source": [
    "# Split instructions to train, dev, test sets.\n",
    "import json\n",
    "\n",
    "instruction_dir = \"/mnt/hackney/human_data\"\n",
    "\n",
    "def save_split(split_name, split_set):\n",
    "\n",
    "  split_path = os.path.join(instruction_dir, split_name)\n",
    "  if os.path.exists(split_path):\n",
    "    os.remove(split_path)\n",
    "  with open(split_path, 'a') as outfile:\n",
    "    for sample in split_set:\n",
    "      json.dump(sample, outfile, default=lambda o: o.__dict__)\n",
    "      outfile.write('\\n')\n",
    "      outfile.flush()\n",
    "\n",
    "  print (f\"Size of {split_name} set:{len(split_set)} saved to: {split_path}\")\n",
    "\n",
    "\n",
    "# Save set splits\n",
    "\n",
    "dev_ids = ['X']\n",
    "test_ids = ['X']\n",
    "\n",
    "\n",
    "test_set =  [\n",
    "  x.to_dict() for x in list_instruction if 'Manhattan' in x.to_dict()['region'] and x.to_dict()['work_id'] in test_ids]\n",
    "\n",
    "save_split(\"test.json\", test_set)\n",
    "\n",
    "dev_set =  [\n",
    "  x.to_dict() for x in list_instruction if 'Manhattan' in x.to_dict()['region'] and x.to_dict()['work_id'] in dev_ids]\n",
    "\n",
    "save_split(\"dev.json\", dev_set)\n",
    "\n",
    "train_set = [\n",
    "  x.to_dict() for x in list_instruction if 'Manhattan' in x.to_dict()['region'] and x.to_dict()['work_id'] not in dev_ids+test_ids]\n",
    "\n",
    "save_split(\"train.json\", train_set)\n"
   ]
  },
  {
   "cell_type": "code",
   "execution_count": 20,
   "metadata": {},
   "outputs": [
    {
     "name": "stdout",
     "output_type": "stream",
     "text": [
      "--------A1FS8SBR4SDWYG--------\n",
      "                  date_start_x         review                        hit_id_x  \\\n",
      "34  2022-11-21 16:16:03.310371  RVS_excellent  373L46LKP779OZDA4FAYCEM5VMHKJE   \n",
      "\n",
      "    dist_m  \n",
      "34    71.0  \n",
      "--------A39MOCMDRIOSJM--------\n",
      "                   date_start_x         review  \\\n",
      "245  2022-12-02 11:51:32.243747  RVS_excellent   \n",
      "\n",
      "                           hit_id_x  dist_m  \n",
      "245  3FBEFUUYRK6RORPH853K9WE449Y6AK    21.0  \n",
      "--------AZLZA0Q87TJZO--------\n",
      "                   date_start_x review                        hit_id_x  dist_m\n",
      "572  2022-11-30 14:47:31.865705    NaN  3K8CQCU3KE2W2PYC8RLTTWXHRHBWNE     4.0\n"
     ]
    }
   ],
   "source": [
    "# check the new workers ID\n",
    "df_instruction = pd.DataFrame(\n",
    "    [\n",
    "        x.to_dict() for x in list_instruction if 'Manhattan' in x.to_dict()['region'] and  'date_start' in x.to_dict() and '2022-11-01' <x.to_dict()['date_start'] ])\n",
    "\n",
    "df_verification = pd.DataFrame(\n",
    "        [x.to_dict() for x in list_verification] )\n",
    "\n",
    "\n",
    "df = df_instruction.merge(df_verification, left_on='key', right_on='key_instruction')\n",
    "\n",
    "work_ids = list(set(df['work_id_x'].to_list()))\n",
    "\n",
    "\n",
    "for work_id in work_ids:\n",
    "    if work_id in qualified_work_list:\n",
    "        continue\n",
    "    print (f\"--------{work_id}--------\")\n",
    "    print (df[df['work_id_x']==work_id][['date_start_x', 'review', 'hit_id_x','dist_m']])\n"
   ]
  },
  {
   "cell_type": "code",
   "execution_count": 6,
   "metadata": {},
   "outputs": [
    {
     "ename": "NameError",
     "evalue": "name 'pd' is not defined",
     "output_type": "error",
     "traceback": [
      "\u001b[0;31m---------------------------------------------------------------------------\u001b[0m",
      "\u001b[0;31mNameError\u001b[0m                                 Traceback (most recent call last)",
      "\u001b[0;32m/tmp/ipykernel_12069/409217322.py\u001b[0m in \u001b[0;36m<module>\u001b[0;34m\u001b[0m\n\u001b[0;32m----> 1\u001b[0;31m \u001b[0mall_data\u001b[0m \u001b[0;34m=\u001b[0m \u001b[0mpd\u001b[0m\u001b[0;34m.\u001b[0m\u001b[0mDataFrame\u001b[0m\u001b[0;34m(\u001b[0m\u001b[0;34m[\u001b[0m\u001b[0mx\u001b[0m\u001b[0;34m.\u001b[0m\u001b[0mto_dict\u001b[0m\u001b[0;34m(\u001b[0m\u001b[0;34m)\u001b[0m \u001b[0;32mfor\u001b[0m \u001b[0mx\u001b[0m \u001b[0;32min\u001b[0m \u001b[0mlist_instruction\u001b[0m \u001b[0;34m]\u001b[0m\u001b[0;34m)\u001b[0m\u001b[0;34m\u001b[0m\u001b[0;34m\u001b[0m\u001b[0m\n\u001b[0m\u001b[1;32m      2\u001b[0m \u001b[0mx\u001b[0m \u001b[0;34m=\u001b[0m \u001b[0mall_data\u001b[0m\u001b[0;34m[\u001b[0m\u001b[0mall_data\u001b[0m\u001b[0;34m[\u001b[0m\u001b[0;34m'review'\u001b[0m\u001b[0;34m]\u001b[0m\u001b[0;34m==\u001b[0m\u001b[0;34m'RVS_excellent'\u001b[0m \u001b[0;34m]\u001b[0m\u001b[0;34m\u001b[0m\u001b[0;34m\u001b[0m\u001b[0m\n\u001b[1;32m      3\u001b[0m \u001b[0mx\u001b[0m\u001b[0;34m[\u001b[0m\u001b[0mx\u001b[0m\u001b[0;34m[\u001b[0m\u001b[0;34m'verified_n'\u001b[0m\u001b[0;34m]\u001b[0m\u001b[0;34m==\u001b[0m\u001b[0;36m0\u001b[0m\u001b[0;34m]\u001b[0m\u001b[0;34m.\u001b[0m\u001b[0mshape\u001b[0m\u001b[0;34m\u001b[0m\u001b[0;34m\u001b[0m\u001b[0m\n",
      "\u001b[0;31mNameError\u001b[0m: name 'pd' is not defined"
     ]
    }
   ],
   "source": [
    "all_data = pd.DataFrame([x.to_dict() for x in list_instruction ])\n",
    "x = all_data[all_data['review']=='RVS_excellent' ]\n",
    "x[x['verified_n']==0].shape"
   ]
  },
  {
   "cell_type": "code",
   "execution_count": null,
   "metadata": {},
   "outputs": [],
   "source": []
  }
 ],
 "metadata": {
  "kernelspec": {
   "display_name": "Python 3.7.6 ('cabby')",
   "language": "python",
   "name": "python3"
  },
  "language_info": {
   "codemirror_mode": {
    "name": "ipython",
    "version": 3
   },
   "file_extension": ".py",
   "mimetype": "text/x-python",
   "name": "python",
   "nbconvert_exporter": "python",
   "pygments_lexer": "ipython3",
   "version": "3.7.6"
  },
  "orig_nbformat": 4,
  "vscode": {
   "interpreter": {
    "hash": "b4f7931bd1c7b434da22e6e2a403714cff5dfb0632842e0d408cece9249e76e8"
   }
  }
 },
 "nbformat": 4,
 "nbformat_minor": 2
}
